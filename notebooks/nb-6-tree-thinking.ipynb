{
 "cells": [
  {
   "cell_type": "markdown",
   "metadata": {},
   "source": [
    "# Tree thinking: interpreting phylogenetic trees\n",
    "\n",
    "\n",
    "## Learning objectives:\n",
    "\n",
    "By the end of this notebook you will:\n",
    "\n",
    "1. Be able to interpret relationships on a phylogenetic tree. \n",
    "2. Have increased understanding of the newick format for storing tree data. \n",
    "3. Know how to root, unroot, and re-root phylogenetic trees.\n",
    "4. Be more familiar with the `toytree` Python package."
   ]
  },
  {
   "cell_type": "markdown",
   "metadata": {},
   "source": [
    "### Understanding evolution using tree-thinking\n",
    "\n",
    "The philosopher of science Robert O'Hara stated, \"*It is impossible to really understand evolution without an ability to accurately interpret phylogenetic trees*\", and that \"*evolution itself is a theory of evolutionary trees*\" (O'Hara 1988, 1997). In biology generally, and in this book already, you have seen several examples of phylogenetic trees. But have you thought carefully about how to interpret these trees, and what information is being presented? There are actually several common pitfalls that most beginners make when interpreting phylogenetic trees, and that even practiced biologists often commit as well. Recognizing and avoiding these mistakes will make you a better biologist, by allowing you to better question and interpret hypotheses about evolutionary relationships from trees. "
   ]
  },
  {
   "cell_type": "markdown",
   "metadata": {},
   "source": [
    "### Phylogenetic trees\n",
    "A phylogenetic tree is a hypothesis of the inferred evolutionary relationships among a set of samples; the units represented at the tips. Sometimes, when we have fossil or ancient DNA data, we may have additional information about ancestral (internal) nodes in a tree. At the extreme, we may even have historical samples that are direct ancestors of later samples, such as in experimental evolution studies. However, most of the time the observed samples are represented at the tips, and all of other information in a tree represents a hypothesis. It is an attempt to describe a model of how a set of samples are related through evolutionary history.\n",
    "\n",
    "The way we interact with phylogenetic trees most frequently is as images. Most people have seen a phylogeny in a museum, or television program, or in the news. Phylogenies are ubiquitous throughout biology, where they are used to describe the relationships among species, populations, individuals (genealogies), genes, and gene copies. However, not all tree diagrams are phylogenies. Many other types of hierarchically structured data can also be visualized as trees, but often with a very different interpretation.\n",
    "\n",
    "Phylogenetic trees are distinct in that they are explicitly intended to represent evolution. This has consequence for how internal nodes in phylogenetic trees should be interpreted (as common ancestors), for the directionality in which they should read (root-to-tip, or vice versa), and for the types of relationships and information that can be extracted (i.e., how to describe evolutionary relationships)."
   ]
  },
  {
   "cell_type": "markdown",
   "metadata": {},
   "source": [
    "### More than an image\n",
    "\n",
    "Although we most often see phylogenetic trees as images, they can also be interpreted as statistical models. At its minimum, a phylogenetic tree represents a set of ancestor-descendant relationships. In addition, it may include information such as edge lengths that describe the magnitude of divergence between sets of samples. It may also include probabilities or weights as measures of confidence or support for the relationships. Many additional types of information can be contained in a phylogenetic tree that together represent a rich description of evolution, and often relate to parameters of the statistical inference method that was used to infer the phylogeny.\n",
    "\n",
    "The best way to start to understand phylogenies as a type of data, as opposed to simply a drawing, is to explore the use of trees as data objects. Below we will use the `toytree` Python package to load, manipulate, draw, and deconstruct trees to better understand the type of information contained in phylogenetic trees."
   ]
  },
  {
   "cell_type": "code",
   "execution_count": 1,
   "metadata": {},
   "outputs": [],
   "source": [
    "import toytree"
   ]
  },
  {
   "cell_type": "markdown",
   "metadata": {},
   "source": [
    "### Newick tree format\n",
    "\n",
    "The text string below defines a tree in [newick format](https://en.wikipedia.org/wiki/Newick_format). When researchers are working with phylogenetic trees as data, this is the main type of data they are working with: simple text files!\n",
    "\n",
    "This format could contain just the relationships -- described by nested parentheses like below -- or it can contain additional information such as branch lengths and/or support values, which we'll see later. You can see how the *nested* hierarchical relationship of a phylogeny (clades nested within clades) is easily represented by a *nested* set of parentheses. \n",
    "\n",
    "In the Python code block below, a <b>string</b> (the text contained within quotations) is <b>stored</b> to a <b>variable</b> called `newick1`. The name of the variable is arbitrary, we could have named it anything. Now we can reuse this object by referring to <i>newick1</i>, as we will see below."
   ]
  },
  {
   "cell_type": "code",
   "execution_count": 2,
   "metadata": {},
   "outputs": [],
   "source": [
    "# create a string variable storing a tree in newick format.\n",
    "newick1 = \"(gibbon, (orangutan, (gorilla, (chimp, human))));\""
   ]
  },
  {
   "cell_type": "markdown",
   "metadata": {},
   "source": [
    "### A tree object\n",
    "We can now parse this newick string to represent it as a `ToyTree` object in Python by using the function `toytree.tree()`. This object has many functions associated with it for manipulating, drawings, comparing, and extracting information about trees. As you can see below, the ToyTree itself is just a Python class object in memory. Next we will start to call functions of this object to investigate its structure. "
   ]
  },
  {
   "cell_type": "code",
   "execution_count": 3,
   "metadata": {},
   "outputs": [],
   "source": [
    "# parse the 'newick1' string into a ToyTree object named 'tree1'\n",
    "tree1 = toytree.tree(newick1)"
   ]
  },
  {
   "cell_type": "code",
   "execution_count": 4,
   "metadata": {},
   "outputs": [
    {
     "data": {
      "text/plain": [
       "<toytree.ToyTree at 0x7fa1a4680700>"
      ]
     },
     "execution_count": 4,
     "metadata": {},
     "output_type": "execute_result"
    }
   ],
   "source": [
    "# this ToyTree is just a Python class object in memory.\n",
    "tree1"
   ]
  },
  {
   "cell_type": "markdown",
   "metadata": {},
   "source": [
    "### Drawing and interpreting trees\n",
    "Below is visualization of this tree created by calling the `.draw` function of the `ToyTree` object with a styling argument that shows an integer label for every node. \n",
    "\n",
    "This tree is rooted, with the gibbon as the outgroup (more on what this means in a minute). Because we know that the tree is rooted, we can interpret the evolutionary relationships by reading from the tips towards the root of the tree. To do so, select any two tips and trace back along their edges until you find the node where they meet. That is their *most recent common ancestor* (MRCA). Ancestors are by definition older than their descendants. Two samples which share a younger MRCA  are more closely related than two samples that share an older MRCA. Using this method, we can identify which samples are more closely related to each other than others."
   ]
  },
  {
   "cell_type": "code",
   "execution_count": 5,
   "metadata": {},
   "outputs": [
    {
     "data": {
      "text/html": [
       "<div class=\"toyplot\" id=\"t69e0230475b246ccb0a8baedf72d6ba7\" style=\"text-align:center\"><svg class=\"toyplot-canvas-Canvas\" xmlns:toyplot=\"http://www.sandia.gov/toyplot\" xmlns:xlink=\"http://www.w3.org/1999/xlink\" xmlns=\"http://www.w3.org/2000/svg\" width=\"300.0px\" height=\"275.0px\" viewBox=\"0 0 300.0 275.0\" preserveAspectRatio=\"xMidYMid meet\" style=\"background-color:transparent;border-color:#292724;border-style:none;border-width:1.0;fill:rgb(16.1%,15.3%,14.1%);fill-opacity:1.0;font-family:Helvetica;font-size:12px;opacity:1.0;stroke:rgb(16.1%,15.3%,14.1%);stroke-opacity:1.0;stroke-width:1.0\" id=\"t4bc0b58042cf4c379cdd628b5db83b97\"><g class=\"toyplot-coordinates-Cartesian\" id=\"t328cb31a76254b578052bbc943cb5bd0\"><clipPath id=\"t0b0f276c6bcc4f92b1d27461cb1e9f59\"><rect x=\"35.0\" y=\"35.0\" width=\"230.0\" height=\"205.0\"></rect></clipPath><g clip-path=\"url(#t0b0f276c6bcc4f92b1d27461cb1e9f59)\"><g class=\"toytree-mark-Toytree\" id=\"t770eb3727ac6485c8bb5c8e042d6b971\"><g class=\"toytree-Edges\" style=\"stroke:rgb(14.5%,14.5%,14.5%);stroke-opacity:1.0;stroke-linecap:round;stroke-width:2.0;fill:none\"><path d=\"M 55.5 179.4 L 55.5 216.4 L 170.6 216.4\" id=\"8,0\" style=\"\"></path><path d=\"M 84.2 142.4 L 84.2 177.0 L 170.6 177.0\" id=\"7,1\" style=\"\"></path><path d=\"M 113.0 107.9 L 113.0 137.5 L 170.6 137.5\" id=\"6,2\" style=\"\"></path><path d=\"M 141.8 78.3 L 141.8 98.0 L 170.6 98.0\" id=\"5,3\" style=\"\"></path><path d=\"M 141.8 78.3 L 141.8 58.6 L 170.6 58.6\" id=\"5,4\" style=\"\"></path><path d=\"M 113.0 107.9 L 113.0 78.3 L 141.8 78.3\" id=\"6,5\" style=\"\"></path><path d=\"M 84.2 142.4 L 84.2 107.9 L 113.0 107.9\" id=\"7,6\" style=\"\"></path><path d=\"M 55.5 179.4 L 55.5 142.4 L 84.2 142.4\" id=\"8,7\" style=\"\"></path></g><g class=\"toytree-AdmixEdges\" style=\"fill:rgb(0.0%,0.0%,0.0%);fill-opacity:0.0;stroke:rgb(90.6%,54.1%,76.5%);stroke-opacity:0.6;font-size:14px;stroke-linecap:round;stroke-width:5\"></g><g class=\"toytree-Nodes\" style=\"fill:rgb(82.7%,82.7%,82.7%);fill-opacity:1.0;stroke:rgb(14.5%,14.5%,14.5%);stroke-opacity:1.0;stroke-width:1.5\"><g id=\"Node-0\" transform=\"translate(170.551,216.43)\"><circle r=\"8.0\"></circle></g><g id=\"Node-1\" transform=\"translate(170.551,176.965)\"><circle r=\"8.0\"></circle></g><g id=\"Node-2\" transform=\"translate(170.551,137.5)\"><circle r=\"8.0\"></circle></g><g id=\"Node-3\" transform=\"translate(170.551,98.0348)\"><circle r=\"8.0\"></circle></g><g id=\"Node-4\" transform=\"translate(170.551,58.5696)\"><circle r=\"8.0\"></circle></g><g id=\"Node-5\" transform=\"translate(141.78,78.3022)\"><circle r=\"8.0\"></circle></g><g id=\"Node-6\" transform=\"translate(113.009,107.901)\"><circle r=\"8.0\"></circle></g><g id=\"Node-7\" transform=\"translate(84.2375,142.433)\"><circle r=\"8.0\"></circle></g><g id=\"Node-8\" transform=\"translate(55.4665,179.432)\"><circle r=\"8.0\"></circle></g></g><g class=\"toytree-NodeLabels\" style=\"font-family:Helvetica;font-size:9px;font-weight:300;vertical-align:baseline;white-space:pre;stroke:none\"><g class=\"toytree-NodeLabel\" transform=\"translate(170.551,216.43)\"><text x=\"-2.5020000000000002\" y=\"2.2995\" style=\"fill:rgb(14.5%,14.5%,14.5%);fill-opacity:1.0\">0</text></g><g class=\"toytree-NodeLabel\" transform=\"translate(170.551,176.965)\"><text x=\"-2.5020000000000002\" y=\"2.2995\" style=\"fill:rgb(14.5%,14.5%,14.5%);fill-opacity:1.0\">1</text></g><g class=\"toytree-NodeLabel\" transform=\"translate(170.551,137.5)\"><text x=\"-2.5020000000000002\" y=\"2.2995\" style=\"fill:rgb(14.5%,14.5%,14.5%);fill-opacity:1.0\">2</text></g><g class=\"toytree-NodeLabel\" transform=\"translate(170.551,98.0348)\"><text x=\"-2.5020000000000002\" y=\"2.2995\" style=\"fill:rgb(14.5%,14.5%,14.5%);fill-opacity:1.0\">3</text></g><g class=\"toytree-NodeLabel\" transform=\"translate(170.551,58.5696)\"><text x=\"-2.5020000000000002\" y=\"2.2995\" style=\"fill:rgb(14.5%,14.5%,14.5%);fill-opacity:1.0\">4</text></g><g class=\"toytree-NodeLabel\" transform=\"translate(141.78,78.3022)\"><text x=\"-2.5020000000000002\" y=\"2.2995\" style=\"fill:rgb(14.5%,14.5%,14.5%);fill-opacity:1.0\">5</text></g><g class=\"toytree-NodeLabel\" transform=\"translate(113.009,107.901)\"><text x=\"-2.5020000000000002\" y=\"2.2995\" style=\"fill:rgb(14.5%,14.5%,14.5%);fill-opacity:1.0\">6</text></g><g class=\"toytree-NodeLabel\" transform=\"translate(84.2375,142.433)\"><text x=\"-2.5020000000000002\" y=\"2.2995\" style=\"fill:rgb(14.5%,14.5%,14.5%);fill-opacity:1.0\">7</text></g><g class=\"toytree-NodeLabel\" transform=\"translate(55.4665,179.432)\"><text x=\"-2.5020000000000002\" y=\"2.2995\" style=\"fill:rgb(14.5%,14.5%,14.5%);fill-opacity:1.0\">8</text></g></g><g class=\"toytree-TipLabels\" style=\"fill:rgb(14.5%,14.5%,14.5%);fill-opacity:1.0;font-family:Helvetica;font-size:12px;font-weight:300;vertical-align:baseline;white-space:pre;stroke:none\"><g class=\"toytree-TipLabel\" transform=\"translate(170.551,216.43)\"><text x=\"15.0\" y=\"3.066\" style=\"fill:rgb(14.5%,14.5%,14.5%);fill-opacity:1.0\">gibbon</text></g><g class=\"toytree-TipLabel\" transform=\"translate(170.551,176.965)\"><text x=\"15.0\" y=\"3.066\" style=\"fill:rgb(14.5%,14.5%,14.5%);fill-opacity:1.0\">orangutan</text></g><g class=\"toytree-TipLabel\" transform=\"translate(170.551,137.5)\"><text x=\"15.0\" y=\"3.066\" style=\"fill:rgb(14.5%,14.5%,14.5%);fill-opacity:1.0\">gorilla</text></g><g class=\"toytree-TipLabel\" transform=\"translate(170.551,98.0348)\"><text x=\"15.0\" y=\"3.066\" style=\"fill:rgb(14.5%,14.5%,14.5%);fill-opacity:1.0\">chimp</text></g><g class=\"toytree-TipLabel\" transform=\"translate(170.551,58.5696)\"><text x=\"15.0\" y=\"3.066\" style=\"fill:rgb(14.5%,14.5%,14.5%);fill-opacity:1.0\">human</text></g></g></g></g></g></svg><div class=\"toyplot-behavior\"><script>(function()\n",
       "{\n",
       "var modules={};\n",
       "})();</script></div></div>"
      ]
     },
     "metadata": {},
     "output_type": "display_data"
    }
   ],
   "source": [
    "# call .draw function of tree1 to return a drawing that will display\n",
    "tree1.draw(tree_style='s');"
   ]
  },
  {
   "cell_type": "markdown",
   "metadata": {},
   "source": [
    "<div class=\"alert alert-success\">\n",
    "    <h3>Action 1:</h3> \n",
    "    \n",
    "In terms of the numbered labels on nodes: (1) which node represents the common ancestor of chimp and human? (2) Which is the common ancestor of orangutan and gibbon? (3) Which of those pairs is more closely related, and why? \n",
    "</div>"
   ]
  },
  {
   "cell_type": "markdown",
   "metadata": {},
   "source": [
    "<div class=\"alert alert-warning\">\n",
    "\n",
    "<details>\n",
    "  <summary><h3>Click for answer.</h3></summary>\n",
    "  \n",
    "1. Node 5 is common ancestor of Chimp and Human.\n",
    "2. Node 8 is common ancestor of Orangutan and Gibbon (and all other species on this tree).\n",
    "3. The Chimp and Human are more closely related, because they share a more recent common ancestor. This is known because Node 8 is an ancestor of Node 5.\n",
    "</details>\n",
    "\n",
    "\n",
    "<div>"
   ]
  },
  {
   "cell_type": "markdown",
   "metadata": {},
   "source": [
    "### Pitfall #1: thinking the order of the tips is relevant\n",
    "\n",
    "A common pitfall when reading phylogenies is to think that because two tips are close to each other visually on the tree that they must also be closely related. This is wrong. As we just learned, the proper way to interpret evolutionary relationships on a tree is to trace back along the edges from the tips towards the root to find common ancestors. \n",
    "\n",
    "This point can be made clear by examining the same tree as above with nodes arbitrarily rotated such that the tip order changes, but the tree topology itself remains the same. The tree below is one such example, where node 7 has been rotated. One might erroneously read this tree to think that it now shows the Orangutan and Human are more closely related than in the previous tree, when in fact the tree still shows the exact same relationships it did before.\n",
    "\n",
    "<i> The tree looks different, but if we read it correctly we can see that the relationships have not changed</i>."
   ]
  },
  {
   "cell_type": "code",
   "execution_count": 6,
   "metadata": {},
   "outputs": [
    {
     "data": {
      "text/html": [
       "<div class=\"toyplot\" id=\"t0de8f213ba284388a807273d7ea64853\" style=\"text-align:center\"><svg class=\"toyplot-canvas-Canvas\" xmlns:toyplot=\"http://www.sandia.gov/toyplot\" xmlns:xlink=\"http://www.w3.org/1999/xlink\" xmlns=\"http://www.w3.org/2000/svg\" width=\"300.0px\" height=\"275.0px\" viewBox=\"0 0 300.0 275.0\" preserveAspectRatio=\"xMidYMid meet\" style=\"background-color:transparent;border-color:#292724;border-style:none;border-width:1.0;fill:rgb(16.1%,15.3%,14.1%);fill-opacity:1.0;font-family:Helvetica;font-size:12px;opacity:1.0;stroke:rgb(16.1%,15.3%,14.1%);stroke-opacity:1.0;stroke-width:1.0\" id=\"ta0c861224740414189526c7e8226b673\"><g class=\"toyplot-coordinates-Cartesian\" id=\"t6251b6b724fa4844bd338b0166e1b177\"><clipPath id=\"t38e4b5aeeae5418085138cd532a3b3a6\"><rect x=\"35.0\" y=\"35.0\" width=\"230.0\" height=\"205.0\"></rect></clipPath><g clip-path=\"url(#t38e4b5aeeae5418085138cd532a3b3a6)\"><g class=\"toytree-mark-Toytree\" id=\"t79eacf65a5114f63a19c28be90460b32\"><g class=\"toytree-Edges\" style=\"stroke:rgb(14.5%,14.5%,14.5%);stroke-opacity:1.0;stroke-linecap:round;stroke-width:2.0;fill:none\"><path d=\"M 55.5 159.7 L 55.5 216.4 L 170.6 216.4\" id=\"8,0\" style=\"\"></path><path d=\"M 113.0 147.4 L 113.0 177.0 L 170.6 177.0\" id=\"6,1\" style=\"\"></path><path d=\"M 141.8 117.8 L 141.8 137.5 L 170.6 137.5\" id=\"5,2\" style=\"\"></path><path d=\"M 141.8 117.8 L 141.8 98.0 L 170.6 98.0\" id=\"5,3\" style=\"\"></path><path d=\"M 84.2 103.0 L 84.2 58.6 L 170.6 58.6\" id=\"7,4\" style=\"\"></path><path d=\"M 113.0 147.4 L 113.0 117.8 L 141.8 117.8\" id=\"6,5\" style=\"\"></path><path d=\"M 84.2 103.0 L 84.2 147.4 L 113.0 147.4\" id=\"7,6\" style=\"\"></path><path d=\"M 55.5 159.7 L 55.5 103.0 L 84.2 103.0\" id=\"8,7\" style=\"\"></path></g><g class=\"toytree-AdmixEdges\" style=\"fill:rgb(0.0%,0.0%,0.0%);fill-opacity:0.0;stroke:rgb(90.6%,54.1%,76.5%);stroke-opacity:0.6;font-size:14px;stroke-linecap:round;stroke-width:5\"></g><g class=\"toytree-Nodes\" style=\"fill:rgb(82.7%,82.7%,82.7%);fill-opacity:1.0;stroke:rgb(14.5%,14.5%,14.5%);stroke-opacity:1.0;stroke-width:1.5\"><g id=\"Node-0\" transform=\"translate(170.551,216.43)\"><circle r=\"8.0\"></circle></g><g id=\"Node-1\" transform=\"translate(170.551,176.965)\"><circle r=\"8.0\"></circle></g><g id=\"Node-2\" transform=\"translate(170.551,137.5)\"><circle r=\"8.0\"></circle></g><g id=\"Node-3\" transform=\"translate(170.551,98.0348)\"><circle r=\"8.0\"></circle></g><g id=\"Node-4\" transform=\"translate(170.551,58.5696)\"><circle r=\"8.0\"></circle></g><g id=\"Node-5\" transform=\"translate(141.78,117.767)\"><circle r=\"8.0\"></circle></g><g id=\"Node-6\" transform=\"translate(113.009,147.366)\"><circle r=\"8.0\"></circle></g><g id=\"Node-7\" transform=\"translate(84.2375,102.968)\"><circle r=\"8.0\"></circle></g><g id=\"Node-8\" transform=\"translate(55.4665,159.699)\"><circle r=\"8.0\"></circle></g></g><g class=\"toytree-NodeLabels\" style=\"font-family:Helvetica;font-size:9px;font-weight:300;vertical-align:baseline;white-space:pre;stroke:none\"><g class=\"toytree-NodeLabel\" transform=\"translate(170.551,216.43)\"><text x=\"-2.5020000000000002\" y=\"2.2995\" style=\"fill:rgb(14.5%,14.5%,14.5%);fill-opacity:1.0\">0</text></g><g class=\"toytree-NodeLabel\" transform=\"translate(170.551,176.965)\"><text x=\"-2.5020000000000002\" y=\"2.2995\" style=\"fill:rgb(14.5%,14.5%,14.5%);fill-opacity:1.0\">1</text></g><g class=\"toytree-NodeLabel\" transform=\"translate(170.551,137.5)\"><text x=\"-2.5020000000000002\" y=\"2.2995\" style=\"fill:rgb(14.5%,14.5%,14.5%);fill-opacity:1.0\">2</text></g><g class=\"toytree-NodeLabel\" transform=\"translate(170.551,98.0348)\"><text x=\"-2.5020000000000002\" y=\"2.2995\" style=\"fill:rgb(14.5%,14.5%,14.5%);fill-opacity:1.0\">3</text></g><g class=\"toytree-NodeLabel\" transform=\"translate(170.551,58.5696)\"><text x=\"-2.5020000000000002\" y=\"2.2995\" style=\"fill:rgb(14.5%,14.5%,14.5%);fill-opacity:1.0\">4</text></g><g class=\"toytree-NodeLabel\" transform=\"translate(141.78,117.767)\"><text x=\"-2.5020000000000002\" y=\"2.2995\" style=\"fill:rgb(14.5%,14.5%,14.5%);fill-opacity:1.0\">5</text></g><g class=\"toytree-NodeLabel\" transform=\"translate(113.009,147.366)\"><text x=\"-2.5020000000000002\" y=\"2.2995\" style=\"fill:rgb(14.5%,14.5%,14.5%);fill-opacity:1.0\">6</text></g><g class=\"toytree-NodeLabel\" transform=\"translate(84.2375,102.968)\"><text x=\"-2.5020000000000002\" y=\"2.2995\" style=\"fill:rgb(14.5%,14.5%,14.5%);fill-opacity:1.0\">7</text></g><g class=\"toytree-NodeLabel\" transform=\"translate(55.4665,159.699)\"><text x=\"-2.5020000000000002\" y=\"2.2995\" style=\"fill:rgb(14.5%,14.5%,14.5%);fill-opacity:1.0\">8</text></g></g><g class=\"toytree-TipLabels\" style=\"fill:rgb(14.5%,14.5%,14.5%);fill-opacity:1.0;font-family:Helvetica;font-size:12px;font-weight:300;vertical-align:baseline;white-space:pre;stroke:none\"><g class=\"toytree-TipLabel\" transform=\"translate(170.551,216.43)\"><text x=\"15.0\" y=\"3.066\" style=\"fill:rgb(14.5%,14.5%,14.5%);fill-opacity:1.0\">gibbon</text></g><g class=\"toytree-TipLabel\" transform=\"translate(170.551,176.965)\"><text x=\"15.0\" y=\"3.066\" style=\"fill:rgb(14.5%,14.5%,14.5%);fill-opacity:1.0\">gorilla</text></g><g class=\"toytree-TipLabel\" transform=\"translate(170.551,137.5)\"><text x=\"15.0\" y=\"3.066\" style=\"fill:rgb(14.5%,14.5%,14.5%);fill-opacity:1.0\">chimp</text></g><g class=\"toytree-TipLabel\" transform=\"translate(170.551,98.0348)\"><text x=\"15.0\" y=\"3.066\" style=\"fill:rgb(14.5%,14.5%,14.5%);fill-opacity:1.0\">human</text></g><g class=\"toytree-TipLabel\" transform=\"translate(170.551,58.5696)\"><text x=\"15.0\" y=\"3.066\" style=\"fill:rgb(14.5%,14.5%,14.5%);fill-opacity:1.0\">orangutan</text></g></g></g></g></g></svg><div class=\"toyplot-behavior\"><script>(function()\n",
       "{\n",
       "var modules={};\n",
       "})();</script></div></div>"
      ]
     },
     "metadata": {},
     "output_type": "display_data"
    }
   ],
   "source": [
    "tree1.mod.rotate_node(7).draw(tree_style='s');"
   ]
  },
  {
   "cell_type": "markdown",
   "metadata": {},
   "source": [
    "Consider also the following tree, in which the tip order has been greatly changed. This is of course not a standard way to visualize trees, since the overlapping edges makes it harder to interpret, but nevertheless, the tree topology remains the same. This is a clear example where intepreting the closeness of the tips would be misleading, since one might think that the Gibbon is most closely related to Humans, when in fact we know that this tree still shows Human and Chimp to be most closely related, and that the Gibbon is most distant, and is also equally related to all other samples (it shares the same MRCA with all other samples). "
   ]
  },
  {
   "cell_type": "code",
   "execution_count": 7,
   "metadata": {},
   "outputs": [
    {
     "data": {
      "text/html": [
       "<div class=\"toyplot\" id=\"t314a538c82da46dfbb8f4a8627eda5ec\" style=\"text-align:center\"><svg class=\"toyplot-canvas-Canvas\" xmlns:toyplot=\"http://www.sandia.gov/toyplot\" xmlns:xlink=\"http://www.w3.org/1999/xlink\" xmlns=\"http://www.w3.org/2000/svg\" width=\"300.0px\" height=\"275.0px\" viewBox=\"0 0 300.0 275.0\" preserveAspectRatio=\"xMidYMid meet\" style=\"background-color:transparent;border-color:#292724;border-style:none;border-width:1.0;fill:rgb(16.1%,15.3%,14.1%);fill-opacity:1.0;font-family:Helvetica;font-size:12px;opacity:1.0;stroke:rgb(16.1%,15.3%,14.1%);stroke-opacity:1.0;stroke-width:1.0\" id=\"tf8c9ff7ff9e441c6b3951e68bb1c6f92\"><g class=\"toyplot-coordinates-Cartesian\" id=\"t5f41a613d82e4ba8b67505c4355306e9\"><clipPath id=\"t2a8c1f32b49645548eec5b01b79f4007\"><rect x=\"35.0\" y=\"35.0\" width=\"230.0\" height=\"205.0\"></rect></clipPath><g clip-path=\"url(#t2a8c1f32b49645548eec5b01b79f4007)\"><g class=\"toytree-mark-Toytree\" id=\"tadeb993324274d998a2bdcb8b0514eb7\"><g class=\"toytree-Edges\" style=\"stroke:rgb(14.5%,14.5%,14.5%);stroke-opacity:1.0;stroke-linecap:round;stroke-width:2.0;fill:none\"><path d=\"M 55.5 132.6 L 170.6 98.0\" id=\"8,0\" style=\"\"></path><path d=\"M 84.2 167.1 L 170.6 177.0\" id=\"7,1\" style=\"\"></path><path d=\"M 113.0 157.2 L 170.6 216.4\" id=\"6,2\" style=\"\"></path><path d=\"M 141.8 98.0 L 170.6 137.5\" id=\"5,3\" style=\"\"></path><path d=\"M 141.8 98.0 L 170.6 58.6\" id=\"5,4\" style=\"\"></path><path d=\"M 113.0 157.2 L 141.8 98.0\" id=\"6,5\" style=\"\"></path><path d=\"M 84.2 167.1 L 113.0 157.2\" id=\"7,6\" style=\"\"></path><path d=\"M 55.5 132.6 L 84.2 167.1\" id=\"8,7\" style=\"\"></path></g><g class=\"toytree-AdmixEdges\" style=\"fill:rgb(0.0%,0.0%,0.0%);fill-opacity:0.0;stroke:rgb(90.6%,54.1%,76.5%);stroke-opacity:0.6;font-size:14px;stroke-linecap:round;stroke-width:5\"></g><g class=\"toytree-Nodes\" style=\"fill:rgb(82.7%,82.7%,82.7%);fill-opacity:1.0;stroke:rgb(14.5%,14.5%,14.5%);stroke-opacity:1.0;stroke-width:1.5\"><g id=\"Node-0\" transform=\"translate(170.551,98.0348)\"><circle r=\"8.0\"></circle></g><g id=\"Node-1\" transform=\"translate(170.551,176.965)\"><circle r=\"8.0\"></circle></g><g id=\"Node-2\" transform=\"translate(170.551,216.43)\"><circle r=\"8.0\"></circle></g><g id=\"Node-3\" transform=\"translate(170.551,137.5)\"><circle r=\"8.0\"></circle></g><g id=\"Node-4\" transform=\"translate(170.551,58.5696)\"><circle r=\"8.0\"></circle></g><g id=\"Node-5\" transform=\"translate(141.78,98.0348)\"><circle r=\"8.0\"></circle></g><g id=\"Node-6\" transform=\"translate(113.009,157.233)\"><circle r=\"8.0\"></circle></g><g id=\"Node-7\" transform=\"translate(84.2375,167.099)\"><circle r=\"8.0\"></circle></g><g id=\"Node-8\" transform=\"translate(55.4665,132.567)\"><circle r=\"8.0\"></circle></g></g><g class=\"toytree-NodeLabels\" style=\"font-family:Helvetica;font-size:9px;font-weight:300;vertical-align:baseline;white-space:pre;stroke:none\"><g class=\"toytree-NodeLabel\" transform=\"translate(170.551,98.0348)\"><text x=\"-2.5020000000000002\" y=\"2.2995\" style=\"fill:rgb(14.5%,14.5%,14.5%);fill-opacity:1.0\">0</text></g><g class=\"toytree-NodeLabel\" transform=\"translate(170.551,176.965)\"><text x=\"-2.5020000000000002\" y=\"2.2995\" style=\"fill:rgb(14.5%,14.5%,14.5%);fill-opacity:1.0\">1</text></g><g class=\"toytree-NodeLabel\" transform=\"translate(170.551,216.43)\"><text x=\"-2.5020000000000002\" y=\"2.2995\" style=\"fill:rgb(14.5%,14.5%,14.5%);fill-opacity:1.0\">2</text></g><g class=\"toytree-NodeLabel\" transform=\"translate(170.551,137.5)\"><text x=\"-2.5020000000000002\" y=\"2.2995\" style=\"fill:rgb(14.5%,14.5%,14.5%);fill-opacity:1.0\">3</text></g><g class=\"toytree-NodeLabel\" transform=\"translate(170.551,58.5696)\"><text x=\"-2.5020000000000002\" y=\"2.2995\" style=\"fill:rgb(14.5%,14.5%,14.5%);fill-opacity:1.0\">4</text></g><g class=\"toytree-NodeLabel\" transform=\"translate(141.78,98.0348)\"><text x=\"-2.5020000000000002\" y=\"2.2995\" style=\"fill:rgb(14.5%,14.5%,14.5%);fill-opacity:1.0\">5</text></g><g class=\"toytree-NodeLabel\" transform=\"translate(113.009,157.233)\"><text x=\"-2.5020000000000002\" y=\"2.2995\" style=\"fill:rgb(14.5%,14.5%,14.5%);fill-opacity:1.0\">6</text></g><g class=\"toytree-NodeLabel\" transform=\"translate(84.2375,167.099)\"><text x=\"-2.5020000000000002\" y=\"2.2995\" style=\"fill:rgb(14.5%,14.5%,14.5%);fill-opacity:1.0\">7</text></g><g class=\"toytree-NodeLabel\" transform=\"translate(55.4665,132.567)\"><text x=\"-2.5020000000000002\" y=\"2.2995\" style=\"fill:rgb(14.5%,14.5%,14.5%);fill-opacity:1.0\">8</text></g></g><g class=\"toytree-TipLabels\" style=\"fill:rgb(14.5%,14.5%,14.5%);fill-opacity:1.0;font-family:Helvetica;font-size:12px;font-weight:300;vertical-align:baseline;white-space:pre;stroke:none\"><g class=\"toytree-TipLabel\" transform=\"translate(170.551,98.0348)\"><text x=\"15.0\" y=\"3.066\" style=\"fill:rgb(14.5%,14.5%,14.5%);fill-opacity:1.0\">gibbon</text></g><g class=\"toytree-TipLabel\" transform=\"translate(170.551,176.965)\"><text x=\"15.0\" y=\"3.066\" style=\"fill:rgb(14.5%,14.5%,14.5%);fill-opacity:1.0\">orangutan</text></g><g class=\"toytree-TipLabel\" transform=\"translate(170.551,216.43)\"><text x=\"15.0\" y=\"3.066\" style=\"fill:rgb(14.5%,14.5%,14.5%);fill-opacity:1.0\">gorilla</text></g><g class=\"toytree-TipLabel\" transform=\"translate(170.551,137.5)\"><text x=\"15.0\" y=\"3.066\" style=\"fill:rgb(14.5%,14.5%,14.5%);fill-opacity:1.0\">chimp</text></g><g class=\"toytree-TipLabel\" transform=\"translate(170.551,58.5696)\"><text x=\"15.0\" y=\"3.066\" style=\"fill:rgb(14.5%,14.5%,14.5%);fill-opacity:1.0\">human</text></g></g></g></g></g></svg><div class=\"toyplot-behavior\"><script>(function()\n",
       "{\n",
       "var modules={};\n",
       "})();</script></div></div>"
      ]
     },
     "metadata": {},
     "output_type": "display_data"
    }
   ],
   "source": [
    "tree1.draw(tree_style='s', edge_type='c', fixed_position=[3, 1, 0, 2, 4],);"
   ]
  },
  {
   "cell_type": "markdown",
   "metadata": {},
   "source": [
    "So far we have been finding the MRCA visually, but of course this task can be automated with code when our tree is represented as a data object, and not just a drawing. This becomes quite useful when working with very large trees, and is used frequently in computational tasks involving tree data. Below we use the function `get_mrca_node` of a ToyTree object which can take any number tip node names as arguments and returns the Node object that is the MRCA."
   ]
  },
  {
   "cell_type": "code",
   "execution_count": 8,
   "metadata": {},
   "outputs": [
    {
     "name": "stdout",
     "output_type": "stream",
     "text": [
      "<Node(idx=5)>\n",
      "<Node(idx=6)>\n",
      "<Node(idx=8)>\n"
     ]
    }
   ],
   "source": [
    "# the .get_mrca_node function will return the common ancestor \n",
    "print(tree1.get_mrca_node(\"human\", \"chimp\"))\n",
    "print(tree1.get_mrca_node(\"human\", \"chimp\", \"gorilla\"))\n",
    "print(tree1.get_mrca_node(\"gorilla\", \"gibbon\"))"
   ]
  },
  {
   "cell_type": "markdown",
   "metadata": {},
   "source": [
    "### Internal labels and clades\n",
    "Before proceeding we will digress to discuss the node labels that we have been using thus far to refer to the internal nodes of the tree. If you look back at the newick string that was used to create the trees that we have been working with so far you will see that they do not have these integer labels in the data. So where did they come from? \n",
    "\n",
    "`toytree` assigns a unique integer label to every node when a ToyTree object is created. This is simply a way to uniquely refer to every node. The numbers are assigned in order, first to the tips, and then to internal nodes in increasing order until the root is reached. However, if the tree topology *is changed* then the internal node numbering will change as well. As we just saw, rotating nodes does not change the topology, however, an actual change to the relationships would change the topology. So beware when reading the integer labels (referred to as *node idx labels*). \n",
    "\n",
    "A safer, and more evolutionary way to refer to internal nodes of a tree is to refer to *who they are a common ancestor of*. In other words, to refer to a node by the **clade** that it forms. By definition, a clade is a group of all samples in a tree that descend from a MRCA. Another term associated with this is to say that the group of samples is **monophyletic**. \n",
    "\n",
    "For example, we would refer to Node 5 from above as the common ancestor of the clade that includes Human and Chimp. This is in code below by getting the MRCA of a set of taxa and then printing which samples are members of the clade descended from that node. As you can see in the last example, we find the MRCA of Gorilla and Gibbon (just 2 samples), but the clade descended from this MRCA node includes all samples (5 samples). This is because Gorilla and Gibbon alone do not form a monophyletic clade. "
   ]
  },
  {
   "cell_type": "code",
   "execution_count": 9,
   "metadata": {},
   "outputs": [
    {
     "name": "stdout",
     "output_type": "stream",
     "text": [
      "<Node(idx=5)> ['chimp', 'human']\n",
      "<Node(idx=6)> ['gorilla', 'chimp', 'human']\n",
      "<Node(idx=8)> ['gibbon', 'orangutan', 'gorilla', 'chimp', 'human']\n"
     ]
    }
   ],
   "source": [
    "# print the MRCA Node object, and the tip names descended from it.\n",
    "mrca = tree1.get_mrca_node(\"human\", \"chimp\")\n",
    "print(mrca, mrca.get_leaf_names())\n",
    "\n",
    "mrca = tree1.get_mrca_node(\"human\", \"chimp\", \"gorilla\")\n",
    "print(mrca, mrca.get_leaf_names())\n",
    "\n",
    "mrca = tree1.get_mrca_node(\"gorilla\", \"gibbon\")\n",
    "print(mrca, mrca.get_leaf_names())"
   ]
  },
  {
   "cell_type": "markdown",
   "metadata": {},
   "source": [
    "<div class=\"alert alert-success\">\n",
    "    <h3>Action 2:</h3> \n",
    "    \n",
    "Which of the four trees below shows a different phylogenetic relationship from the other?\n",
    "</div>"
   ]
  },
  {
   "cell_type": "code",
   "execution_count": 10,
   "metadata": {},
   "outputs": [
    {
     "data": {
      "text/html": [
       "<div class=\"toyplot\" id=\"t0bd40aecc0a0408c8fe3f1ccc689e716\" style=\"text-align:center\"><svg class=\"toyplot-canvas-Canvas\" xmlns:toyplot=\"http://www.sandia.gov/toyplot\" xmlns:xlink=\"http://www.w3.org/1999/xlink\" xmlns=\"http://www.w3.org/2000/svg\" width=\"750.0px\" height=\"250.0px\" viewBox=\"0 0 750.0 250.0\" preserveAspectRatio=\"xMidYMid meet\" style=\"background-color:transparent;border-color:#292724;border-style:none;border-width:1.0;fill:rgb(16.1%,15.3%,14.1%);fill-opacity:1.0;font-family:Helvetica;font-size:12px;opacity:1.0;stroke:rgb(16.1%,15.3%,14.1%);stroke-opacity:1.0;stroke-width:1.0\" id=\"t72e36a49a6a44d92be51410e60acd530\"><g class=\"toyplot-coordinates-Cartesian\" id=\"tcc3926dd3ab649efa704ce80ae2b7521\"><clipPath id=\"t487120062a2d4ae0b65c62ffc8680988\"><rect x=\"20.0\" y=\"40.0\" width=\"167.5\" height=\"170.0\"></rect></clipPath><g clip-path=\"url(#t487120062a2d4ae0b65c62ffc8680988)\"><g class=\"toytree-mark-Toytree\" id=\"te78d31479b634a8f801c935c239e5211\"><g class=\"toytree-Edges\" style=\"stroke:rgb(14.5%,14.5%,14.5%);stroke-opacity:1.0;stroke-linecap:round;stroke-width:2.0;fill:none\"><path d=\"M 35.0 160.6 L 35.0 192.0 L 116.6 192.0\" id=\"8,0\" style=\"\"></path><path d=\"M 55.4 129.2 L 55.4 158.5 L 116.6 158.5\" id=\"7,1\" style=\"\"></path><path d=\"M 75.8 99.9 L 75.8 125.0 L 116.6 125.0\" id=\"6,2\" style=\"\"></path><path d=\"M 96.2 74.8 L 96.2 91.5 L 116.6 91.5\" id=\"5,3\" style=\"\"></path><path d=\"M 96.2 74.8 L 96.2 58.0 L 116.6 58.0\" id=\"5,4\" style=\"\"></path><path d=\"M 75.8 99.9 L 75.8 74.8 L 96.2 74.8\" id=\"6,5\" style=\"\"></path><path d=\"M 55.4 129.2 L 55.4 99.9 L 75.8 99.9\" id=\"7,6\" style=\"\"></path><path d=\"M 35.0 160.6 L 35.0 129.2 L 55.4 129.2\" id=\"8,7\" style=\"\"></path></g><g class=\"toytree-AdmixEdges\" style=\"fill:rgb(0.0%,0.0%,0.0%);fill-opacity:0.0;stroke:rgb(90.6%,54.1%,76.5%);stroke-opacity:0.6;font-size:14px;stroke-linecap:round;stroke-width:5\"></g><g class=\"toytree-Nodes\" style=\"fill:rgb(82.7%,82.7%,82.7%);fill-opacity:1.0;stroke:rgb(14.5%,14.5%,14.5%);stroke-opacity:1.0;stroke-width:1.5\"><g id=\"Node-0\" transform=\"translate(116.599,191.964)\"><circle r=\"7.5\"></circle></g><g id=\"Node-1\" transform=\"translate(116.599,158.482)\"><circle r=\"7.5\"></circle></g><g id=\"Node-2\" transform=\"translate(116.599,125)\"><circle r=\"7.5\"></circle></g><g id=\"Node-3\" transform=\"translate(116.599,91.5179)\"><circle r=\"7.5\"></circle></g><g id=\"Node-4\" transform=\"translate(116.599,58.0357)\"><circle r=\"7.5\"></circle></g><g id=\"Node-5\" transform=\"translate(96.1941,74.7768)\"><circle r=\"7.5\"></circle></g><g id=\"Node-6\" transform=\"translate(75.7894,99.8884)\"><circle r=\"7.5\"></circle></g><g id=\"Node-7\" transform=\"translate(55.3848,129.185)\"><circle r=\"7.5\"></circle></g><g id=\"Node-8\" transform=\"translate(34.9801,160.575)\"><circle r=\"7.5\"></circle></g></g><g class=\"toytree-NodeLabels\" style=\"font-family:Helvetica;font-size:9px;font-weight:300;vertical-align:baseline;white-space:pre;stroke:none\"><g class=\"toytree-NodeLabel\" transform=\"translate(116.599,191.964)\"><text x=\"-2.5020000000000002\" y=\"2.2995\" style=\"fill:rgb(14.5%,14.5%,14.5%);fill-opacity:1.0\">0</text></g><g class=\"toytree-NodeLabel\" transform=\"translate(116.599,158.482)\"><text x=\"-2.5020000000000002\" y=\"2.2995\" style=\"fill:rgb(14.5%,14.5%,14.5%);fill-opacity:1.0\">1</text></g><g class=\"toytree-NodeLabel\" transform=\"translate(116.599,125)\"><text x=\"-2.5020000000000002\" y=\"2.2995\" style=\"fill:rgb(14.5%,14.5%,14.5%);fill-opacity:1.0\">2</text></g><g class=\"toytree-NodeLabel\" transform=\"translate(116.599,91.5179)\"><text x=\"-2.5020000000000002\" y=\"2.2995\" style=\"fill:rgb(14.5%,14.5%,14.5%);fill-opacity:1.0\">3</text></g><g class=\"toytree-NodeLabel\" transform=\"translate(116.599,58.0357)\"><text x=\"-2.5020000000000002\" y=\"2.2995\" style=\"fill:rgb(14.5%,14.5%,14.5%);fill-opacity:1.0\">4</text></g><g class=\"toytree-NodeLabel\" transform=\"translate(96.1941,74.7768)\"><text x=\"-2.5020000000000002\" y=\"2.2995\" style=\"fill:rgb(14.5%,14.5%,14.5%);fill-opacity:1.0\">5</text></g><g class=\"toytree-NodeLabel\" transform=\"translate(75.7894,99.8884)\"><text x=\"-2.5020000000000002\" y=\"2.2995\" style=\"fill:rgb(14.5%,14.5%,14.5%);fill-opacity:1.0\">6</text></g><g class=\"toytree-NodeLabel\" transform=\"translate(55.3848,129.185)\"><text x=\"-2.5020000000000002\" y=\"2.2995\" style=\"fill:rgb(14.5%,14.5%,14.5%);fill-opacity:1.0\">7</text></g><g class=\"toytree-NodeLabel\" transform=\"translate(34.9801,160.575)\"><text x=\"-2.5020000000000002\" y=\"2.2995\" style=\"fill:rgb(14.5%,14.5%,14.5%);fill-opacity:1.0\">8</text></g></g><g class=\"toytree-TipLabels\" style=\"fill:rgb(14.5%,14.5%,14.5%);fill-opacity:1.0;font-family:Helvetica;font-size:10px;font-weight:300;vertical-align:baseline;white-space:pre;stroke:none\"><g class=\"toytree-TipLabel\" transform=\"translate(116.599,191.964)\"><text x=\"10.0\" y=\"2.5549999999999997\" style=\"fill:rgb(14.5%,14.5%,14.5%);fill-opacity:1.0\">gibbon</text></g><g class=\"toytree-TipLabel\" transform=\"translate(116.599,158.482)\"><text x=\"10.0\" y=\"2.5549999999999997\" style=\"fill:rgb(14.5%,14.5%,14.5%);fill-opacity:1.0\">orangutan</text></g><g class=\"toytree-TipLabel\" transform=\"translate(116.599,125)\"><text x=\"10.0\" y=\"2.5549999999999997\" style=\"fill:rgb(14.5%,14.5%,14.5%);fill-opacity:1.0\">gorilla</text></g><g class=\"toytree-TipLabel\" transform=\"translate(116.599,91.5179)\"><text x=\"10.0\" y=\"2.5549999999999997\" style=\"fill:rgb(14.5%,14.5%,14.5%);fill-opacity:1.0\">chimp</text></g><g class=\"toytree-TipLabel\" transform=\"translate(116.599,58.0357)\"><text x=\"10.0\" y=\"2.5549999999999997\" style=\"fill:rgb(14.5%,14.5%,14.5%);fill-opacity:1.0\">human</text></g></g></g></g></g><g class=\"toyplot-coordinates-Cartesian\" id=\"tfd6e26394c654281a42a4facc1035793\"><clipPath id=\"t3648cc024f684842976973355047c593\"><rect x=\"207.5\" y=\"40.0\" width=\"167.5\" height=\"170.0\"></rect></clipPath><g clip-path=\"url(#t3648cc024f684842976973355047c593)\"><g class=\"toytree-mark-Toytree\" id=\"t0deb42cecc6d4ced940f00b4e3913463\"><g class=\"toytree-Edges\" style=\"stroke:rgb(14.5%,14.5%,14.5%);stroke-opacity:1.0;stroke-linecap:round;stroke-width:2.0;fill:none\"><path d=\"M 283.7 175.2 L 283.7 192.0 L 304.1 192.0\" id=\"5,0\" style=\"\"></path><path d=\"M 283.7 175.2 L 283.7 158.5 L 304.1 158.5\" id=\"5,1\" style=\"\"></path><path d=\"M 263.3 150.1 L 263.3 125.0 L 304.1 125.0\" id=\"6,2\" style=\"\"></path><path d=\"M 242.9 120.8 L 242.9 91.5 L 304.1 91.5\" id=\"7,3\" style=\"\"></path><path d=\"M 222.5 89.4 L 222.5 58.0 L 304.1 58.0\" id=\"8,4\" style=\"\"></path><path d=\"M 263.3 150.1 L 263.3 175.2 L 283.7 175.2\" id=\"6,5\" style=\"\"></path><path d=\"M 242.9 120.8 L 242.9 150.1 L 263.3 150.1\" id=\"7,6\" style=\"\"></path><path d=\"M 222.5 89.4 L 222.5 120.8 L 242.9 120.8\" id=\"8,7\" style=\"\"></path></g><g class=\"toytree-AdmixEdges\" style=\"fill:rgb(0.0%,0.0%,0.0%);fill-opacity:0.0;stroke:rgb(90.6%,54.1%,76.5%);stroke-opacity:0.6;font-size:14px;stroke-linecap:round;stroke-width:5\"></g><g class=\"toytree-Nodes\" style=\"fill:rgb(82.7%,82.7%,82.7%);fill-opacity:1.0;stroke:rgb(14.5%,14.5%,14.5%);stroke-opacity:1.0;stroke-width:1.5\"><g id=\"Node-0\" transform=\"translate(304.099,191.964)\"><circle r=\"7.5\"></circle></g><g id=\"Node-1\" transform=\"translate(304.099,158.482)\"><circle r=\"7.5\"></circle></g><g id=\"Node-2\" transform=\"translate(304.099,125)\"><circle r=\"7.5\"></circle></g><g id=\"Node-3\" transform=\"translate(304.099,91.5179)\"><circle r=\"7.5\"></circle></g><g id=\"Node-4\" transform=\"translate(304.099,58.0357)\"><circle r=\"7.5\"></circle></g><g id=\"Node-5\" transform=\"translate(283.694,175.223)\"><circle r=\"7.5\"></circle></g><g id=\"Node-6\" transform=\"translate(263.289,150.112)\"><circle r=\"7.5\"></circle></g><g id=\"Node-7\" transform=\"translate(242.885,120.815)\"><circle r=\"7.5\"></circle></g><g id=\"Node-8\" transform=\"translate(222.48,89.4252)\"><circle r=\"7.5\"></circle></g></g><g class=\"toytree-NodeLabels\" style=\"font-family:Helvetica;font-size:9px;font-weight:300;vertical-align:baseline;white-space:pre;stroke:none\"><g class=\"toytree-NodeLabel\" transform=\"translate(304.099,191.964)\"><text x=\"-2.5020000000000002\" y=\"2.2995\" style=\"fill:rgb(14.5%,14.5%,14.5%);fill-opacity:1.0\">0</text></g><g class=\"toytree-NodeLabel\" transform=\"translate(304.099,158.482)\"><text x=\"-2.5020000000000002\" y=\"2.2995\" style=\"fill:rgb(14.5%,14.5%,14.5%);fill-opacity:1.0\">1</text></g><g class=\"toytree-NodeLabel\" transform=\"translate(304.099,125)\"><text x=\"-2.5020000000000002\" y=\"2.2995\" style=\"fill:rgb(14.5%,14.5%,14.5%);fill-opacity:1.0\">2</text></g><g class=\"toytree-NodeLabel\" transform=\"translate(304.099,91.5179)\"><text x=\"-2.5020000000000002\" y=\"2.2995\" style=\"fill:rgb(14.5%,14.5%,14.5%);fill-opacity:1.0\">3</text></g><g class=\"toytree-NodeLabel\" transform=\"translate(304.099,58.0357)\"><text x=\"-2.5020000000000002\" y=\"2.2995\" style=\"fill:rgb(14.5%,14.5%,14.5%);fill-opacity:1.0\">4</text></g><g class=\"toytree-NodeLabel\" transform=\"translate(283.694,175.223)\"><text x=\"-2.5020000000000002\" y=\"2.2995\" style=\"fill:rgb(14.5%,14.5%,14.5%);fill-opacity:1.0\">5</text></g><g class=\"toytree-NodeLabel\" transform=\"translate(263.289,150.112)\"><text x=\"-2.5020000000000002\" y=\"2.2995\" style=\"fill:rgb(14.5%,14.5%,14.5%);fill-opacity:1.0\">6</text></g><g class=\"toytree-NodeLabel\" transform=\"translate(242.885,120.815)\"><text x=\"-2.5020000000000002\" y=\"2.2995\" style=\"fill:rgb(14.5%,14.5%,14.5%);fill-opacity:1.0\">7</text></g><g class=\"toytree-NodeLabel\" transform=\"translate(222.48,89.4252)\"><text x=\"-2.5020000000000002\" y=\"2.2995\" style=\"fill:rgb(14.5%,14.5%,14.5%);fill-opacity:1.0\">8</text></g></g><g class=\"toytree-TipLabels\" style=\"fill:rgb(14.5%,14.5%,14.5%);fill-opacity:1.0;font-family:Helvetica;font-size:10px;font-weight:300;vertical-align:baseline;white-space:pre;stroke:none\"><g class=\"toytree-TipLabel\" transform=\"translate(304.099,191.964)\"><text x=\"10.0\" y=\"2.5549999999999997\" style=\"fill:rgb(14.5%,14.5%,14.5%);fill-opacity:1.0\">human</text></g><g class=\"toytree-TipLabel\" transform=\"translate(304.099,158.482)\"><text x=\"10.0\" y=\"2.5549999999999997\" style=\"fill:rgb(14.5%,14.5%,14.5%);fill-opacity:1.0\">chimp</text></g><g class=\"toytree-TipLabel\" transform=\"translate(304.099,125)\"><text x=\"10.0\" y=\"2.5549999999999997\" style=\"fill:rgb(14.5%,14.5%,14.5%);fill-opacity:1.0\">gorilla</text></g><g class=\"toytree-TipLabel\" transform=\"translate(304.099,91.5179)\"><text x=\"10.0\" y=\"2.5549999999999997\" style=\"fill:rgb(14.5%,14.5%,14.5%);fill-opacity:1.0\">orangutan</text></g><g class=\"toytree-TipLabel\" transform=\"translate(304.099,58.0357)\"><text x=\"10.0\" y=\"2.5549999999999997\" style=\"fill:rgb(14.5%,14.5%,14.5%);fill-opacity:1.0\">gibbon</text></g></g></g></g></g><g class=\"toyplot-coordinates-Cartesian\" id=\"tad2fb956ef94407c9f0a839098932f83\"><clipPath id=\"t576a9bde8d1e4b03bcf7858d07e53f1a\"><rect x=\"395.0\" y=\"40.0\" width=\"167.5\" height=\"170.0\"></rect></clipPath><g clip-path=\"url(#t576a9bde8d1e4b03bcf7858d07e53f1a)\"><g class=\"toytree-mark-Toytree\" id=\"t0bf2af91161a400598bb18988abd48ed\"><g class=\"toytree-Edges\" style=\"stroke:rgb(14.5%,14.5%,14.5%);stroke-opacity:1.0;stroke-linecap:round;stroke-width:2.0;fill:none\"><path d=\"M 471.2 175.2 L 471.2 192.0 L 491.6 192.0\" id=\"5,0\" style=\"\"></path><path d=\"M 471.2 175.2 L 471.2 158.5 L 491.6 158.5\" id=\"5,1\" style=\"\"></path><path d=\"M 450.8 150.1 L 450.8 125.0 L 491.6 125.0\" id=\"6,2\" style=\"\"></path><path d=\"M 430.4 120.8 L 430.4 91.5 L 491.6 91.5\" id=\"7,3\" style=\"\"></path><path d=\"M 410.0 89.4 L 410.0 58.0 L 491.6 58.0\" id=\"8,4\" style=\"\"></path><path d=\"M 450.8 150.1 L 450.8 175.2 L 471.2 175.2\" id=\"6,5\" style=\"\"></path><path d=\"M 430.4 120.8 L 430.4 150.1 L 450.8 150.1\" id=\"7,6\" style=\"\"></path><path d=\"M 410.0 89.4 L 410.0 120.8 L 430.4 120.8\" id=\"8,7\" style=\"\"></path></g><g class=\"toytree-AdmixEdges\" style=\"fill:rgb(0.0%,0.0%,0.0%);fill-opacity:0.0;stroke:rgb(90.6%,54.1%,76.5%);stroke-opacity:0.6;font-size:14px;stroke-linecap:round;stroke-width:5\"></g><g class=\"toytree-Nodes\" style=\"fill:rgb(82.7%,82.7%,82.7%);fill-opacity:1.0;stroke:rgb(14.5%,14.5%,14.5%);stroke-opacity:1.0;stroke-width:1.5\"><g id=\"Node-0\" transform=\"translate(491.599,191.964)\"><circle r=\"7.5\"></circle></g><g id=\"Node-1\" transform=\"translate(491.599,158.482)\"><circle r=\"7.5\"></circle></g><g id=\"Node-2\" transform=\"translate(491.599,125)\"><circle r=\"7.5\"></circle></g><g id=\"Node-3\" transform=\"translate(491.599,91.5179)\"><circle r=\"7.5\"></circle></g><g id=\"Node-4\" transform=\"translate(491.599,58.0357)\"><circle r=\"7.5\"></circle></g><g id=\"Node-5\" transform=\"translate(471.194,175.223)\"><circle r=\"7.5\"></circle></g><g id=\"Node-6\" transform=\"translate(450.789,150.112)\"><circle r=\"7.5\"></circle></g><g id=\"Node-7\" transform=\"translate(430.385,120.815)\"><circle r=\"7.5\"></circle></g><g id=\"Node-8\" transform=\"translate(409.98,89.4252)\"><circle r=\"7.5\"></circle></g></g><g class=\"toytree-NodeLabels\" style=\"font-family:Helvetica;font-size:9px;font-weight:300;vertical-align:baseline;white-space:pre;stroke:none\"><g class=\"toytree-NodeLabel\" transform=\"translate(491.599,191.964)\"><text x=\"-2.5020000000000002\" y=\"2.2995\" style=\"fill:rgb(14.5%,14.5%,14.5%);fill-opacity:1.0\">0</text></g><g class=\"toytree-NodeLabel\" transform=\"translate(491.599,158.482)\"><text x=\"-2.5020000000000002\" y=\"2.2995\" style=\"fill:rgb(14.5%,14.5%,14.5%);fill-opacity:1.0\">1</text></g><g class=\"toytree-NodeLabel\" transform=\"translate(491.599,125)\"><text x=\"-2.5020000000000002\" y=\"2.2995\" style=\"fill:rgb(14.5%,14.5%,14.5%);fill-opacity:1.0\">2</text></g><g class=\"toytree-NodeLabel\" transform=\"translate(491.599,91.5179)\"><text x=\"-2.5020000000000002\" y=\"2.2995\" style=\"fill:rgb(14.5%,14.5%,14.5%);fill-opacity:1.0\">3</text></g><g class=\"toytree-NodeLabel\" transform=\"translate(491.599,58.0357)\"><text x=\"-2.5020000000000002\" y=\"2.2995\" style=\"fill:rgb(14.5%,14.5%,14.5%);fill-opacity:1.0\">4</text></g><g class=\"toytree-NodeLabel\" transform=\"translate(471.194,175.223)\"><text x=\"-2.5020000000000002\" y=\"2.2995\" style=\"fill:rgb(14.5%,14.5%,14.5%);fill-opacity:1.0\">5</text></g><g class=\"toytree-NodeLabel\" transform=\"translate(450.789,150.112)\"><text x=\"-2.5020000000000002\" y=\"2.2995\" style=\"fill:rgb(14.5%,14.5%,14.5%);fill-opacity:1.0\">6</text></g><g class=\"toytree-NodeLabel\" transform=\"translate(430.385,120.815)\"><text x=\"-2.5020000000000002\" y=\"2.2995\" style=\"fill:rgb(14.5%,14.5%,14.5%);fill-opacity:1.0\">7</text></g><g class=\"toytree-NodeLabel\" transform=\"translate(409.98,89.4252)\"><text x=\"-2.5020000000000002\" y=\"2.2995\" style=\"fill:rgb(14.5%,14.5%,14.5%);fill-opacity:1.0\">8</text></g></g><g class=\"toytree-TipLabels\" style=\"fill:rgb(14.5%,14.5%,14.5%);fill-opacity:1.0;font-family:Helvetica;font-size:10px;font-weight:300;vertical-align:baseline;white-space:pre;stroke:none\"><g class=\"toytree-TipLabel\" transform=\"translate(491.599,191.964)\"><text x=\"10.0\" y=\"2.5549999999999997\" style=\"fill:rgb(14.5%,14.5%,14.5%);fill-opacity:1.0\">human</text></g><g class=\"toytree-TipLabel\" transform=\"translate(491.599,158.482)\"><text x=\"10.0\" y=\"2.5549999999999997\" style=\"fill:rgb(14.5%,14.5%,14.5%);fill-opacity:1.0\">chimp</text></g><g class=\"toytree-TipLabel\" transform=\"translate(491.599,125)\"><text x=\"10.0\" y=\"2.5549999999999997\" style=\"fill:rgb(14.5%,14.5%,14.5%);fill-opacity:1.0\">orangutan</text></g><g class=\"toytree-TipLabel\" transform=\"translate(491.599,91.5179)\"><text x=\"10.0\" y=\"2.5549999999999997\" style=\"fill:rgb(14.5%,14.5%,14.5%);fill-opacity:1.0\">gorilla</text></g><g class=\"toytree-TipLabel\" transform=\"translate(491.599,58.0357)\"><text x=\"10.0\" y=\"2.5549999999999997\" style=\"fill:rgb(14.5%,14.5%,14.5%);fill-opacity:1.0\">gibbon</text></g></g></g></g></g><g class=\"toyplot-coordinates-Cartesian\" id=\"t5c72ce4928cb41dab0b898b5f81433a0\"><clipPath id=\"t61dac2631205433eadb9044e305303b5\"><rect x=\"582.5\" y=\"40.0\" width=\"167.5\" height=\"170.0\"></rect></clipPath><g clip-path=\"url(#t61dac2631205433eadb9044e305303b5)\"><g class=\"toytree-mark-Toytree\" id=\"teb1a299c822c40099a6e00809e5ac08f\"><g class=\"toytree-Edges\" style=\"stroke:rgb(14.5%,14.5%,14.5%);stroke-opacity:1.0;stroke-linecap:round;stroke-width:2.0;fill:none\"><path d=\"M 638.3 166.9 L 638.3 192.0 L 679.1 192.0\" id=\"6,0\" style=\"\"></path><path d=\"M 658.7 141.7 L 658.7 158.5 L 679.1 158.5\" id=\"5,1\" style=\"\"></path><path d=\"M 658.7 141.7 L 658.7 125.0 L 679.1 125.0\" id=\"5,2\" style=\"\"></path><path d=\"M 617.9 129.2 L 617.9 91.5 L 679.1 91.5\" id=\"7,3\" style=\"\"></path><path d=\"M 597.5 93.6 L 597.5 58.0 L 679.1 58.0\" id=\"8,4\" style=\"\"></path><path d=\"M 638.3 166.9 L 638.3 141.7 L 658.7 141.7\" id=\"6,5\" style=\"\"></path><path d=\"M 617.9 129.2 L 617.9 166.9 L 638.3 166.9\" id=\"7,6\" style=\"\"></path><path d=\"M 597.5 93.6 L 597.5 129.2 L 617.9 129.2\" id=\"8,7\" style=\"\"></path></g><g class=\"toytree-AdmixEdges\" style=\"fill:rgb(0.0%,0.0%,0.0%);fill-opacity:0.0;stroke:rgb(90.6%,54.1%,76.5%);stroke-opacity:0.6;font-size:14px;stroke-linecap:round;stroke-width:5\"></g><g class=\"toytree-Nodes\" style=\"fill:rgb(82.7%,82.7%,82.7%);fill-opacity:1.0;stroke:rgb(14.5%,14.5%,14.5%);stroke-opacity:1.0;stroke-width:1.5\"><g id=\"Node-0\" transform=\"translate(679.099,191.964)\"><circle r=\"7.5\"></circle></g><g id=\"Node-1\" transform=\"translate(679.099,158.482)\"><circle r=\"7.5\"></circle></g><g id=\"Node-2\" transform=\"translate(679.099,125)\"><circle r=\"7.5\"></circle></g><g id=\"Node-3\" transform=\"translate(679.099,91.5179)\"><circle r=\"7.5\"></circle></g><g id=\"Node-4\" transform=\"translate(679.099,58.0357)\"><circle r=\"7.5\"></circle></g><g id=\"Node-5\" transform=\"translate(658.694,141.741)\"><circle r=\"7.5\"></circle></g><g id=\"Node-6\" transform=\"translate(638.289,166.853)\"><circle r=\"7.5\"></circle></g><g id=\"Node-7\" transform=\"translate(617.885,129.185)\"><circle r=\"7.5\"></circle></g><g id=\"Node-8\" transform=\"translate(597.48,93.6105)\"><circle r=\"7.5\"></circle></g></g><g class=\"toytree-NodeLabels\" style=\"font-family:Helvetica;font-size:9px;font-weight:300;vertical-align:baseline;white-space:pre;stroke:none\"><g class=\"toytree-NodeLabel\" transform=\"translate(679.099,191.964)\"><text x=\"-2.5020000000000002\" y=\"2.2995\" style=\"fill:rgb(14.5%,14.5%,14.5%);fill-opacity:1.0\">0</text></g><g class=\"toytree-NodeLabel\" transform=\"translate(679.099,158.482)\"><text x=\"-2.5020000000000002\" y=\"2.2995\" style=\"fill:rgb(14.5%,14.5%,14.5%);fill-opacity:1.0\">1</text></g><g class=\"toytree-NodeLabel\" transform=\"translate(679.099,125)\"><text x=\"-2.5020000000000002\" y=\"2.2995\" style=\"fill:rgb(14.5%,14.5%,14.5%);fill-opacity:1.0\">2</text></g><g class=\"toytree-NodeLabel\" transform=\"translate(679.099,91.5179)\"><text x=\"-2.5020000000000002\" y=\"2.2995\" style=\"fill:rgb(14.5%,14.5%,14.5%);fill-opacity:1.0\">3</text></g><g class=\"toytree-NodeLabel\" transform=\"translate(679.099,58.0357)\"><text x=\"-2.5020000000000002\" y=\"2.2995\" style=\"fill:rgb(14.5%,14.5%,14.5%);fill-opacity:1.0\">4</text></g><g class=\"toytree-NodeLabel\" transform=\"translate(658.694,141.741)\"><text x=\"-2.5020000000000002\" y=\"2.2995\" style=\"fill:rgb(14.5%,14.5%,14.5%);fill-opacity:1.0\">5</text></g><g class=\"toytree-NodeLabel\" transform=\"translate(638.289,166.853)\"><text x=\"-2.5020000000000002\" y=\"2.2995\" style=\"fill:rgb(14.5%,14.5%,14.5%);fill-opacity:1.0\">6</text></g><g class=\"toytree-NodeLabel\" transform=\"translate(617.885,129.185)\"><text x=\"-2.5020000000000002\" y=\"2.2995\" style=\"fill:rgb(14.5%,14.5%,14.5%);fill-opacity:1.0\">7</text></g><g class=\"toytree-NodeLabel\" transform=\"translate(597.48,93.6105)\"><text x=\"-2.5020000000000002\" y=\"2.2995\" style=\"fill:rgb(14.5%,14.5%,14.5%);fill-opacity:1.0\">8</text></g></g><g class=\"toytree-TipLabels\" style=\"fill:rgb(14.5%,14.5%,14.5%);fill-opacity:1.0;font-family:Helvetica;font-size:10px;font-weight:300;vertical-align:baseline;white-space:pre;stroke:none\"><g class=\"toytree-TipLabel\" transform=\"translate(679.099,191.964)\"><text x=\"10.0\" y=\"2.5549999999999997\" style=\"fill:rgb(14.5%,14.5%,14.5%);fill-opacity:1.0\">gorilla</text></g><g class=\"toytree-TipLabel\" transform=\"translate(679.099,158.482)\"><text x=\"10.0\" y=\"2.5549999999999997\" style=\"fill:rgb(14.5%,14.5%,14.5%);fill-opacity:1.0\">human</text></g><g class=\"toytree-TipLabel\" transform=\"translate(679.099,125)\"><text x=\"10.0\" y=\"2.5549999999999997\" style=\"fill:rgb(14.5%,14.5%,14.5%);fill-opacity:1.0\">chimp</text></g><g class=\"toytree-TipLabel\" transform=\"translate(679.099,91.5179)\"><text x=\"10.0\" y=\"2.5549999999999997\" style=\"fill:rgb(14.5%,14.5%,14.5%);fill-opacity:1.0\">orangutan</text></g><g class=\"toytree-TipLabel\" transform=\"translate(679.099,58.0357)\"><text x=\"10.0\" y=\"2.5549999999999997\" style=\"fill:rgb(14.5%,14.5%,14.5%);fill-opacity:1.0\">gibbon</text></g></g></g></g></g></svg><div class=\"toyplot-behavior\"><script>(function()\n",
       "{\n",
       "var modules={};\n",
       "})();</script></div></div>"
      ]
     },
     "metadata": {},
     "output_type": "display_data"
    }
   ],
   "source": [
    "# load and draw trees (.mtree is used to work w/ multiple trees)\n",
    "test1 = '(gibbon,(orangutan,(gorilla,(chimp,human))));'\n",
    "test2 = '((((human,chimp),gorilla),orangutan),gibbon);'\n",
    "test3 = '((((human,chimp),orangutan),gorilla),gibbon);'\n",
    "test4 = '(((gorilla,(human,chimp)),orangutan),gibbon);'\n",
    "toytree.mtree([test1, test2, test3, test4]).draw(ts='s', node_sizes=15);"
   ]
  },
  {
   "cell_type": "markdown",
   "metadata": {},
   "source": [
    "<div class=\"alert alert-warning\">\n",
    "\n",
    "<details>\n",
    "  <summary><h3>Click for answer.</h3></summary>\n",
    "  \n",
    "Only the third tree is different. In this tree the Orangutan forms a clade with Human and Chimp, whereas in the other three trees the Gorilla forms a clade with Human and Chimp, and the drawing simply differ by rotations of nodes.\n",
    "    \n",
    "</details>\n",
    "\n",
    "\n",
    "<div>"
   ]
  },
  {
   "cell_type": "markdown",
   "metadata": {},
   "source": [
    "### Rooting trees: polarizing evolution\n",
    "\n",
    "Earlier I mentioned that we would assume the tree was rooted, we'll now dive deeper into what that means. A phylogenetic tree can be rooted or unrooted, which indicates whether or not *we know* the direction of evolution on the tree, i.e., which node is the root (common ancestor to all samples the tree).\n",
    "\n",
    "It turns out that most of the methods that we have for inferring phylogenetic trees are only able to infer an unrooted tree, and rely on additional evidence afterwards to identify the rooting. As an example, consider a data set composed of morphological measurements on many different mammals that is used to infer a phylogeny using the method of parsimony. This would involve proposing a phylogenetic tree hypothesis, and then counting how many evolutionary *changes* of each character are required to explain the observed trait data at the tips of the tree. Because we simply count the number of *changes*, it is not required for us to know whether each change represents a gain or a loss of each character. This turns out to be a strength of many phylogenetic inference methods, they can yield a tree hypothesis without requiring knowledge of the rooting of a tree. However, as evolutionary biologists, we *do want to know* how a tree should be rooted. \n",
    "\n",
    "So, the most frequent solution is to use an *outgroup*. That is to say, we include a sample in the phylogenetic analysis that we *know* (strongly believe) is more distantly related to all of the other samples. Such information may come from alternative data (DNA versus morphology), previous analyses, from fossils, or other sources. With an outgroup decided, and using the unrooted tree that we inferred, we can then root the tree by inserting a Node on the branch between the ingroup and outgroup samples, since we know that they must all share a MRCA together. Let's walk through this process visually to better understand it."
   ]
  },
  {
   "cell_type": "markdown",
   "metadata": {},
   "source": [
    "### Unrooted versus rooted trees\n",
    "What is the difference between a rooted and unrooted tree? In truth, they can be hard to distinguish visually, and so it is actually best practice to state whether a tree is rooted or not when it is shown. However, most of the time, it is generally assumed from the style in which the tree is visualized whether it is rooted or not. For example, unrooted trees are generally shown using an \"undirected\" layout style, where a direction of root to tips is not shown, like below."
   ]
  },
  {
   "cell_type": "code",
   "execution_count": 22,
   "metadata": {},
   "outputs": [],
   "source": [
    "# a style dict that we will use on style unrooted tree drawings\n",
    "style = {\n",
    "    \"layout\": \"unrooted\",\n",
    "    \"tip_labels_style\": {\"font-size\": 12},\n",
    "    \"node_sizes\": 16,\n",
    "    \"node_labels\": \"idx\",\n",
    "    \"node_colors\": \"lightgrey\",\n",
    "    \"height\": 300,\n",
    "}"
   ]
  },
  {
   "cell_type": "code",
   "execution_count": 24,
   "metadata": {},
   "outputs": [
    {
     "data": {
      "text/html": [
       "<div class=\"toyplot\" id=\"t96d5dbf3446645d2883809f6bf70f880\" style=\"text-align:center\"><svg class=\"toyplot-canvas-Canvas\" xmlns:toyplot=\"http://www.sandia.gov/toyplot\" xmlns:xlink=\"http://www.w3.org/1999/xlink\" xmlns=\"http://www.w3.org/2000/svg\" width=\"350.0px\" height=\"300.0px\" viewBox=\"0 0 350.0 300.0\" preserveAspectRatio=\"xMidYMid meet\" style=\"background-color:transparent;border-color:#292724;border-style:none;border-width:1.0;fill:rgb(16.1%,15.3%,14.1%);fill-opacity:1.0;font-family:Helvetica;font-size:12px;opacity:1.0;stroke:rgb(16.1%,15.3%,14.1%);stroke-opacity:1.0;stroke-width:1.0\" id=\"tb74456f35983490590ed045e82b42b80\"><g class=\"toyplot-coordinates-Cartesian\" id=\"tb200095968de4120975cb5c879c5e3c8\"><clipPath id=\"tdd9357f130d44c0a85566cc6c9458c0e\"><rect x=\"35.0\" y=\"35.0\" width=\"280.0\" height=\"230.0\"></rect></clipPath><g clip-path=\"url(#tdd9357f130d44c0a85566cc6c9458c0e)\"><g class=\"toytree-mark-Toytree\" id=\"td911bf60004943318867ad2b7b7a65b5\"><g class=\"toytree-Edges\" style=\"stroke:rgb(14.5%,14.5%,14.5%);stroke-opacity:1.0;stroke-linecap:round;stroke-width:2.0;fill:none\"><path d=\"M 204.3 169.4 L 257.6 189.1\" id=\"7,0\" style=\"\"></path><path d=\"M 202.2 136.1 L 262.3 122.1\" id=\"6,1\" style=\"\"></path><path d=\"M 150.9 115.0 L 159.9 82.0\" id=\"5,2\" style=\"\"></path><path d=\"M 150.9 115.0 L 85.5 110.2\" id=\"5,3\" style=\"\"></path><path d=\"M 204.3 169.4 L 118.2 220.0\" id=\"7,4\" style=\"\"></path><path d=\"M 202.2 136.1 L 150.9 115.0\" id=\"6,5\" style=\"\"></path><path d=\"M 204.3 169.4 L 202.2 136.1\" id=\"7,6\" style=\"\"></path></g><g class=\"toytree-AdmixEdges\" style=\"fill:rgb(0.0%,0.0%,0.0%);fill-opacity:0.0;stroke:rgb(90.6%,54.1%,76.5%);stroke-opacity:0.6;font-size:14px;stroke-linecap:round;stroke-width:5\"></g><g class=\"toytree-Nodes\" style=\"fill:rgb(82.7%,82.7%,82.7%);fill-opacity:1.0;stroke:rgb(14.9%,14.9%,14.9%);stroke-opacity:1.0;stroke-width:1.5\"><g id=\"Node-5\" transform=\"translate(150.931,115.032)\"><circle r=\"8.0\"></circle></g><g id=\"Node-6\" transform=\"translate(202.227,136.072)\"><circle r=\"8.0\"></circle></g><g id=\"Node-7\" transform=\"translate(204.279,169.397)\"><circle r=\"8.0\"></circle></g></g><g class=\"toytree-NodeLabels\" style=\"font-family:Helvetica;font-size:9px;font-weight:300;vertical-align:baseline;white-space:pre;stroke:none\"><g class=\"toytree-NodeLabel\" transform=\"translate(150.931,115.032)\"><text x=\"-2.5020000000000002\" y=\"2.2995\" style=\"fill:rgb(14.5%,14.5%,14.5%);fill-opacity:1.0\">5</text></g><g class=\"toytree-NodeLabel\" transform=\"translate(202.227,136.072)\"><text x=\"-2.5020000000000002\" y=\"2.2995\" style=\"fill:rgb(14.5%,14.5%,14.5%);fill-opacity:1.0\">6</text></g><g class=\"toytree-NodeLabel\" transform=\"translate(204.279,169.397)\"><text x=\"-2.5020000000000002\" y=\"2.2995\" style=\"fill:rgb(14.5%,14.5%,14.5%);fill-opacity:1.0\">7</text></g></g><g class=\"toytree-TipLabels\" style=\"fill:rgb(14.5%,14.5%,14.5%);fill-opacity:1.0;font-family:Helvetica;font-size:12px;font-weight:300;vertical-align:baseline;white-space:pre;stroke:none\"><g class=\"toytree-TipLabel\" transform=\"translate(257.612,189.108)rotate(36.241)\"><text x=\"15.0\" y=\"3.066\" style=\"fill:rgb(14.5%,14.5%,14.5%);fill-opacity:1.0\">orangutan</text></g><g class=\"toytree-TipLabel\" transform=\"translate(262.312,122.15)rotate(-58.2301)\"><text x=\"15.0\" y=\"3.066\" style=\"fill:rgb(14.5%,14.5%,14.5%);fill-opacity:1.0\">gorilla</text></g><g class=\"toytree-TipLabel\" transform=\"translate(159.896,81.9987)rotate(68.46)\"><text x=\"-47.004000000000005\" y=\"3.066\" style=\"fill:rgb(14.5%,14.5%,14.5%);fill-opacity:1.0\">chimp</text></g><g class=\"toytree-TipLabel\" transform=\"translate(85.508,110.184)rotate(23.7442)\"><text x=\"-51.684\" y=\"3.066\" style=\"fill:rgb(14.5%,14.5%,14.5%);fill-opacity:1.0\">human</text></g><g class=\"toytree-TipLabel\" transform=\"translate(118.215,220.029)rotate(-49.4014)\"><text x=\"-51.024\" y=\"3.066\" style=\"fill:rgb(14.5%,14.5%,14.5%);fill-opacity:1.0\">gibbon</text></g></g></g></g></g></svg><div class=\"toyplot-behavior\"><script>(function()\n",
       "{\n",
       "var modules={};\n",
       "})();</script></div></div>"
      ]
     },
     "metadata": {},
     "output_type": "display_data"
    }
   ],
   "source": [
    "# draw tree1 as an unrooted tree.\n",
    "tree1.unroot().draw(**style, width=350);"
   ]
  },
  {
   "cell_type": "markdown",
   "metadata": {},
   "source": [
    "While the visual layout of a tree can indicate whether or not the rooting is known (or is being emphasized), a tree data object (ToyTree) is explicit in whether or not it is rooted. To understand this, let's start from how trees are stored and loaded from newick strings. \n",
    "\n",
    "The primary way in which a tree is represented as rooted versus unrooted *when working with trees as data* is in whether or not the top level Node (root) is dichotomous (branching into 2 child clades), or non-dichotomous (branching into >2 child clades). This is coded into the newick strings below, where one has two clades in the outer-most parentheses `(x,y);`, and the other has three `(x,y,z);`."
   ]
  },
  {
   "cell_type": "code",
   "execution_count": 25,
   "metadata": {},
   "outputs": [
    {
     "data": {
      "text/html": [
       "<div class=\"toyplot\" id=\"tbc6ce6d83f72438382ab8d5154d53fe1\" style=\"text-align:center\"><svg class=\"toyplot-canvas-Canvas\" xmlns:toyplot=\"http://www.sandia.gov/toyplot\" xmlns:xlink=\"http://www.w3.org/1999/xlink\" xmlns=\"http://www.w3.org/2000/svg\" width=\"450.0px\" height=\"250.0px\" viewBox=\"0 0 450.0 250.0\" preserveAspectRatio=\"xMidYMid meet\" style=\"background-color:transparent;border-color:#292724;border-style:none;border-width:1.0;fill:rgb(16.1%,15.3%,14.1%);fill-opacity:1.0;font-family:Helvetica;font-size:12px;opacity:1.0;stroke:rgb(16.1%,15.3%,14.1%);stroke-opacity:1.0;stroke-width:1.0\" id=\"te519cf88088843b29a85d9373d7e7ac7\"><g class=\"toyplot-coordinates-Cartesian\" id=\"tcf5b334fbe0944179571795109bc649d\"><clipPath id=\"te7dac26f65e64c17a100e9cfe1cdb179\"><rect x=\"20.0\" y=\"40.0\" width=\"205.0\" height=\"170.0\"></rect></clipPath><g clip-path=\"url(#te7dac26f65e64c17a100e9cfe1cdb179)\"><g class=\"toytree-mark-Toytree\" id=\"tf7a4b2f04ad74fda9efd6d29f4d634d9\"><g class=\"toytree-Edges\" style=\"stroke:rgb(14.5%,14.5%,14.5%);stroke-opacity:1.0;stroke-linecap:round;stroke-width:2.0;fill:none\"><path d=\"M 113.2 169.9 L 113.2 192.4 L 189.4 192.4\" id=\"4,0\" style=\"\"></path><path d=\"M 113.2 169.9 L 113.2 147.5 L 189.4 147.5\" id=\"4,1\" style=\"\"></path><path d=\"M 113.2 80.1 L 113.2 102.5 L 189.4 102.5\" id=\"5,2\" style=\"\"></path><path d=\"M 113.2 80.1 L 113.2 57.6 L 189.4 57.6\" id=\"5,3\" style=\"\"></path><path d=\"M 37.0 125.0 L 37.0 169.9 L 113.2 169.9\" id=\"6,4\" style=\"\"></path><path d=\"M 37.0 125.0 L 37.0 80.1 L 113.2 80.1\" id=\"6,5\" style=\"\"></path></g><g class=\"toytree-AdmixEdges\" style=\"fill:rgb(0.0%,0.0%,0.0%);fill-opacity:0.0;stroke:rgb(90.6%,54.1%,76.5%);stroke-opacity:0.6;font-size:14px;stroke-linecap:round;stroke-width:5\"></g><g class=\"toytree-Nodes\" style=\"fill:rgb(82.7%,82.7%,82.7%);fill-opacity:1.0;stroke:rgb(14.5%,14.5%,14.5%);stroke-opacity:1.0;stroke-width:1.5\"><g id=\"Node-0\" transform=\"translate(189.369,192.365)\"><circle r=\"7.0\"></circle></g><g id=\"Node-1\" transform=\"translate(189.369,147.455)\"><circle r=\"7.0\"></circle></g><g id=\"Node-2\" transform=\"translate(189.369,102.545)\"><circle r=\"7.0\"></circle></g><g id=\"Node-3\" transform=\"translate(189.369,57.6347)\"><circle r=\"7.0\"></circle></g><g id=\"Node-4\" transform=\"translate(113.185,169.91)\"><circle r=\"7.0\"></circle></g><g id=\"Node-5\" transform=\"translate(113.185,80.0898)\"><circle r=\"7.0\"></circle></g><g id=\"Node-6\" transform=\"translate(37.0007,125)\"><circle r=\"7.0\"></circle></g></g><g class=\"toytree-NodeLabels\" style=\"font-family:Helvetica;font-size:9px;font-weight:300;vertical-align:baseline;white-space:pre;stroke:none\"><g class=\"toytree-NodeLabel\" transform=\"translate(189.369,192.365)\"><text x=\"-2.5020000000000002\" y=\"2.2995\" style=\"fill:rgb(14.5%,14.5%,14.5%);fill-opacity:1.0\">0</text></g><g class=\"toytree-NodeLabel\" transform=\"translate(189.369,147.455)\"><text x=\"-2.5020000000000002\" y=\"2.2995\" style=\"fill:rgb(14.5%,14.5%,14.5%);fill-opacity:1.0\">1</text></g><g class=\"toytree-NodeLabel\" transform=\"translate(189.369,102.545)\"><text x=\"-2.5020000000000002\" y=\"2.2995\" style=\"fill:rgb(14.5%,14.5%,14.5%);fill-opacity:1.0\">2</text></g><g class=\"toytree-NodeLabel\" transform=\"translate(189.369,57.6347)\"><text x=\"-2.5020000000000002\" y=\"2.2995\" style=\"fill:rgb(14.5%,14.5%,14.5%);fill-opacity:1.0\">3</text></g><g class=\"toytree-NodeLabel\" transform=\"translate(113.185,169.91)\"><text x=\"-2.5020000000000002\" y=\"2.2995\" style=\"fill:rgb(14.5%,14.5%,14.5%);fill-opacity:1.0\">4</text></g><g class=\"toytree-NodeLabel\" transform=\"translate(113.185,80.0898)\"><text x=\"-2.5020000000000002\" y=\"2.2995\" style=\"fill:rgb(14.5%,14.5%,14.5%);fill-opacity:1.0\">5</text></g><g class=\"toytree-NodeLabel\" transform=\"translate(37.0007,125)\"><text x=\"-2.5020000000000002\" y=\"2.2995\" style=\"fill:rgb(14.5%,14.5%,14.5%);fill-opacity:1.0\">6</text></g></g><g class=\"toytree-TipLabels\" style=\"fill:rgb(14.5%,14.5%,14.5%);fill-opacity:1.0;font-family:Helvetica;font-size:10px;font-weight:300;vertical-align:baseline;white-space:pre;stroke:none\"><g class=\"toytree-TipLabel\" transform=\"translate(189.369,192.365)\"><text x=\"10.0\" y=\"2.5549999999999997\" style=\"fill:rgb(14.5%,14.5%,14.5%);fill-opacity:1.0\">a</text></g><g class=\"toytree-TipLabel\" transform=\"translate(189.369,147.455)\"><text x=\"10.0\" y=\"2.5549999999999997\" style=\"fill:rgb(14.5%,14.5%,14.5%);fill-opacity:1.0\">b</text></g><g class=\"toytree-TipLabel\" transform=\"translate(189.369,102.545)\"><text x=\"10.0\" y=\"2.5549999999999997\" style=\"fill:rgb(14.5%,14.5%,14.5%);fill-opacity:1.0\">c</text></g><g class=\"toytree-TipLabel\" transform=\"translate(189.369,57.6347)\"><text x=\"10.0\" y=\"2.5549999999999997\" style=\"fill:rgb(14.5%,14.5%,14.5%);fill-opacity:1.0\">d</text></g></g></g></g></g><g class=\"toyplot-coordinates-Cartesian\" id=\"t1e25f17ee85d4d22bec0640dc9f3ae23\"><clipPath id=\"t08af41e318684b23bb4e0ec7759aa49a\"><rect x=\"245.0\" y=\"40.0\" width=\"205.0\" height=\"170.0\"></rect></clipPath><g clip-path=\"url(#t08af41e318684b23bb4e0ec7759aa49a)\"><g class=\"toytree-mark-Toytree\" id=\"t14b38e73551d45a3b21afe7592a12de5\"><g class=\"toytree-Edges\" style=\"stroke:rgb(14.5%,14.5%,14.5%);stroke-opacity:1.0;stroke-linecap:round;stroke-width:2.0;fill:none\"><path d=\"M 262.0 140.0 L 262.0 192.4 L 414.4 192.4\" id=\"5,0\" style=\"\"></path><path d=\"M 262.0 140.0 L 262.0 147.5 L 414.4 147.5\" id=\"5,1\" style=\"\"></path><path d=\"M 338.2 80.1 L 338.2 102.5 L 414.4 102.5\" id=\"4,2\" style=\"\"></path><path d=\"M 338.2 80.1 L 338.2 57.6 L 414.4 57.6\" id=\"4,3\" style=\"\"></path><path d=\"M 262.0 140.0 L 262.0 80.1 L 338.2 80.1\" id=\"5,4\" style=\"\"></path></g><g class=\"toytree-AdmixEdges\" style=\"fill:rgb(0.0%,0.0%,0.0%);fill-opacity:0.0;stroke:rgb(90.6%,54.1%,76.5%);stroke-opacity:0.6;font-size:14px;stroke-linecap:round;stroke-width:5\"></g><g class=\"toytree-Nodes\" style=\"fill:rgb(82.7%,82.7%,82.7%);fill-opacity:1.0;stroke:rgb(14.5%,14.5%,14.5%);stroke-opacity:1.0;stroke-width:1.5\"><g id=\"Node-0\" transform=\"translate(414.369,192.365)\"><circle r=\"7.0\"></circle></g><g id=\"Node-1\" transform=\"translate(414.369,147.455)\"><circle r=\"7.0\"></circle></g><g id=\"Node-2\" transform=\"translate(414.369,102.545)\"><circle r=\"7.0\"></circle></g><g id=\"Node-3\" transform=\"translate(414.369,57.6347)\"><circle r=\"7.0\"></circle></g><g id=\"Node-4\" transform=\"translate(338.185,80.0898)\"><circle r=\"7.0\"></circle></g><g id=\"Node-5\" transform=\"translate(262.001,139.97)\"><circle r=\"7.0\"></circle></g></g><g class=\"toytree-NodeLabels\" style=\"font-family:Helvetica;font-size:9px;font-weight:300;vertical-align:baseline;white-space:pre;stroke:none\"><g class=\"toytree-NodeLabel\" transform=\"translate(414.369,192.365)\"><text x=\"-2.5020000000000002\" y=\"2.2995\" style=\"fill:rgb(14.5%,14.5%,14.5%);fill-opacity:1.0\">0</text></g><g class=\"toytree-NodeLabel\" transform=\"translate(414.369,147.455)\"><text x=\"-2.5020000000000002\" y=\"2.2995\" style=\"fill:rgb(14.5%,14.5%,14.5%);fill-opacity:1.0\">1</text></g><g class=\"toytree-NodeLabel\" transform=\"translate(414.369,102.545)\"><text x=\"-2.5020000000000002\" y=\"2.2995\" style=\"fill:rgb(14.5%,14.5%,14.5%);fill-opacity:1.0\">2</text></g><g class=\"toytree-NodeLabel\" transform=\"translate(414.369,57.6347)\"><text x=\"-2.5020000000000002\" y=\"2.2995\" style=\"fill:rgb(14.5%,14.5%,14.5%);fill-opacity:1.0\">3</text></g><g class=\"toytree-NodeLabel\" transform=\"translate(338.185,80.0898)\"><text x=\"-2.5020000000000002\" y=\"2.2995\" style=\"fill:rgb(14.5%,14.5%,14.5%);fill-opacity:1.0\">4</text></g><g class=\"toytree-NodeLabel\" transform=\"translate(262.001,139.97)\"><text x=\"-2.5020000000000002\" y=\"2.2995\" style=\"fill:rgb(14.5%,14.5%,14.5%);fill-opacity:1.0\">5</text></g></g><g class=\"toytree-TipLabels\" style=\"fill:rgb(14.5%,14.5%,14.5%);fill-opacity:1.0;font-family:Helvetica;font-size:10px;font-weight:300;vertical-align:baseline;white-space:pre;stroke:none\"><g class=\"toytree-TipLabel\" transform=\"translate(414.369,192.365)\"><text x=\"10.0\" y=\"2.5549999999999997\" style=\"fill:rgb(14.5%,14.5%,14.5%);fill-opacity:1.0\">a</text></g><g class=\"toytree-TipLabel\" transform=\"translate(414.369,147.455)\"><text x=\"10.0\" y=\"2.5549999999999997\" style=\"fill:rgb(14.5%,14.5%,14.5%);fill-opacity:1.0\">b</text></g><g class=\"toytree-TipLabel\" transform=\"translate(414.369,102.545)\"><text x=\"10.0\" y=\"2.5549999999999997\" style=\"fill:rgb(14.5%,14.5%,14.5%);fill-opacity:1.0\">c</text></g><g class=\"toytree-TipLabel\" transform=\"translate(414.369,57.6347)\"><text x=\"10.0\" y=\"2.5549999999999997\" style=\"fill:rgb(14.5%,14.5%,14.5%);fill-opacity:1.0\">d</text></g></g></g></g></g></svg><div class=\"toyplot-behavior\"><script>(function()\n",
       "{\n",
       "var modules={};\n",
       "})();</script></div></div>"
      ]
     },
     "metadata": {},
     "output_type": "display_data"
    }
   ],
   "source": [
    "# create a rooted and unrooted tree with 4 samples\n",
    "rooted = toytree.tree(\"((a, b), (c, d));\")\n",
    "unrooted = toytree.tree(\"(a, b, (c, d));\")\n",
    "toytree.mtree([rooted, unrooted]).draw(ts='s', node_sizes=14);"
   ]
  },
  {
   "cell_type": "markdown",
   "metadata": {},
   "source": [
    "As you can see above, even though the tree on the right *can* be drawn using a directed layout (left to right), it is still in fact an unrooted tree, and so the drawing is misleading, as we may interpret it to show that samples \"c\" and \"d\" share a most recent common ancestor, as they do in the rooted tree on the left, but we don't actually know that for the tree on the right, since there is not a known root. (The node labeled 5 in the tree on the right is simply indicating that there is a node representing the trichotomy in the tree object.\n",
    "\n",
    "This means that *we don't actually know* which nodes are descended from whom. This is easier to understand if we draw the same trees using the undirected layout, below. As you can see, the rooted tree on the left contains an extra node (6) that represents the root. By contrast, the unrooted tree on the right contains no such node."
   ]
  },
  {
   "cell_type": "code",
   "execution_count": 27,
   "metadata": {},
   "outputs": [
    {
     "data": {
      "text/html": [
       "<div class=\"toyplot\" id=\"t87cae1153d2d4c32a28d3991ce3feebb\" style=\"text-align:center\"><svg class=\"toyplot-canvas-Canvas\" xmlns:toyplot=\"http://www.sandia.gov/toyplot\" xmlns:xlink=\"http://www.w3.org/1999/xlink\" xmlns=\"http://www.w3.org/2000/svg\" width=\"600.0px\" height=\"300.0px\" viewBox=\"0 0 600.0 300.0\" preserveAspectRatio=\"xMidYMid meet\" style=\"background-color:transparent;border-color:#292724;border-style:none;border-width:1.0;fill:rgb(16.1%,15.3%,14.1%);fill-opacity:1.0;font-family:Helvetica;font-size:12px;opacity:1.0;stroke:rgb(16.1%,15.3%,14.1%);stroke-opacity:1.0;stroke-width:1.0\" id=\"t20afd51edea042429d53a8b92f4b5b97\"><g class=\"toyplot-coordinates-Cartesian\" id=\"t381ba557bdbc42e58cc6b71e8bcaf680\"><clipPath id=\"tdfc3300578494db1ba4bd3d48b815f7e\"><rect x=\"20.0\" y=\"40.0\" width=\"280.0\" height=\"220.0\"></rect></clipPath><g clip-path=\"url(#tdfc3300578494db1ba4bd3d48b815f7e)\"><g class=\"toytree-mark-Toytree\" id=\"tf8d898e55eef43638b7ea786bce84732\"><g class=\"toytree-Edges\" style=\"stroke:rgb(14.5%,14.5%,14.5%);stroke-opacity:1.0;stroke-linecap:round;stroke-width:2.0;fill:none\"><path d=\"M 226.8 150.0 L 274.1 238.5\" id=\"4,0\" style=\"\"></path><path d=\"M 226.8 150.0 L 274.1 61.5\" id=\"4,1\" style=\"\"></path><path d=\"M 93.2 150.0 L 45.9 61.5\" id=\"5,2\" style=\"\"></path><path d=\"M 93.2 150.0 L 45.9 238.5\" id=\"5,3\" style=\"\"></path><path d=\"M 160.0 150.0 L 226.8 150.0\" id=\"6,4\" style=\"\"></path><path d=\"M 160.0 150.0 L 93.2 150.0\" id=\"6,5\" style=\"\"></path></g><g class=\"toytree-AdmixEdges\" style=\"fill:rgb(0.0%,0.0%,0.0%);fill-opacity:0.0;stroke:rgb(90.6%,54.1%,76.5%);stroke-opacity:0.6;font-size:14px;stroke-linecap:round;stroke-width:5\"></g><g class=\"toytree-Nodes\" style=\"fill:rgb(82.7%,82.7%,82.7%);fill-opacity:1.0;stroke:rgb(14.9%,14.9%,14.9%);stroke-opacity:1.0;stroke-width:1.5\"><g id=\"Node-4\" transform=\"translate(226.819,150)\"><circle r=\"8.0\"></circle></g><g id=\"Node-5\" transform=\"translate(93.181,150)\"><circle r=\"8.0\"></circle></g><g id=\"Node-6\" transform=\"translate(160,150)\"><circle r=\"8.0\"></circle></g></g><g class=\"toytree-NodeLabels\" style=\"font-family:Helvetica;font-size:9px;font-weight:300;vertical-align:baseline;white-space:pre;stroke:none\"><g class=\"toytree-NodeLabel\" transform=\"translate(226.819,150)\"><text x=\"-2.5020000000000002\" y=\"2.2995\" style=\"fill:rgb(14.5%,14.5%,14.5%);fill-opacity:1.0\">4</text></g><g class=\"toytree-NodeLabel\" transform=\"translate(93.181,150)\"><text x=\"-2.5020000000000002\" y=\"2.2995\" style=\"fill:rgb(14.5%,14.5%,14.5%);fill-opacity:1.0\">5</text></g><g class=\"toytree-NodeLabel\" transform=\"translate(160,150)\"><text x=\"-2.5020000000000002\" y=\"2.2995\" style=\"fill:rgb(14.5%,14.5%,14.5%);fill-opacity:1.0\">6</text></g></g><g class=\"toytree-TipLabels\" style=\"fill:rgb(14.5%,14.5%,14.5%);fill-opacity:1.0;font-family:Helvetica;font-size:12px;font-weight:300;vertical-align:baseline;white-space:pre;stroke:none\"><g class=\"toytree-TipLabel\" transform=\"translate(274.067,238.47)rotate(22.5)\"><text x=\"10.0\" y=\"3.066\" style=\"fill:rgb(14.5%,14.5%,14.5%);fill-opacity:1.0\">a</text></g><g class=\"toytree-TipLabel\" transform=\"translate(274.067,61.5295)rotate(-22.5)\"><text x=\"10.0\" y=\"3.066\" style=\"fill:rgb(14.5%,14.5%,14.5%);fill-opacity:1.0\">b</text></g><g class=\"toytree-TipLabel\" transform=\"translate(45.9328,61.5295)rotate(22.5)\"><text x=\"-16.0\" y=\"3.066\" style=\"fill:rgb(14.5%,14.5%,14.5%);fill-opacity:1.0\">c</text></g><g class=\"toytree-TipLabel\" transform=\"translate(45.9328,238.47)rotate(-22.5)\"><text x=\"-16.672\" y=\"3.066\" style=\"fill:rgb(14.5%,14.5%,14.5%);fill-opacity:1.0\">d</text></g></g></g></g></g><g class=\"toyplot-coordinates-Cartesian\" id=\"tdd527c0aac8c4044823fb4752ff603ab\"><clipPath id=\"t7ef613a4a9154b4e82aab0b73ab6df1d\"><rect x=\"320.0\" y=\"40.0\" width=\"280.0\" height=\"220.0\"></rect></clipPath><g clip-path=\"url(#t7ef613a4a9154b4e82aab0b73ab6df1d)\"><g class=\"toytree-mark-Toytree\" id=\"t5fee2f1161724f42b13f74ec7d0971e7\"><g class=\"toytree-Edges\" style=\"stroke:rgb(14.5%,14.5%,14.5%);stroke-opacity:1.0;stroke-linecap:round;stroke-width:2.0;fill:none\"><path d=\"M 508.0 150.0 L 575.1 235.6\" id=\"5,0\" style=\"\"></path><path d=\"M 508.0 150.0 L 575.1 64.4\" id=\"5,1\" style=\"\"></path><path d=\"M 413.1 150.0 L 346.0 64.4\" id=\"4,2\" style=\"\"></path><path d=\"M 413.1 150.0 L 346.0 235.6\" id=\"4,3\" style=\"\"></path><path d=\"M 508.0 150.0 L 413.1 150.0\" id=\"5,4\" style=\"\"></path></g><g class=\"toytree-AdmixEdges\" style=\"fill:rgb(0.0%,0.0%,0.0%);fill-opacity:0.0;stroke:rgb(90.6%,54.1%,76.5%);stroke-opacity:0.6;font-size:14px;stroke-linecap:round;stroke-width:5\"></g><g class=\"toytree-Nodes\" style=\"fill:rgb(82.7%,82.7%,82.7%);fill-opacity:1.0;stroke:rgb(14.9%,14.9%,14.9%);stroke-opacity:1.0;stroke-width:1.5\"><g id=\"Node-4\" transform=\"translate(413.11,150)\"><circle r=\"8.0\"></circle></g><g id=\"Node-5\" transform=\"translate(508.016,150)\"><circle r=\"8.0\"></circle></g></g><g class=\"toytree-NodeLabels\" style=\"font-family:Helvetica;font-size:9px;font-weight:300;vertical-align:baseline;white-space:pre;stroke:none\"><g class=\"toytree-NodeLabel\" transform=\"translate(413.11,150)\"><text x=\"-2.5020000000000002\" y=\"2.2995\" style=\"fill:rgb(14.5%,14.5%,14.5%);fill-opacity:1.0\">4</text></g><g class=\"toytree-NodeLabel\" transform=\"translate(508.016,150)\"><text x=\"-2.5020000000000002\" y=\"2.2995\" style=\"fill:rgb(14.5%,14.5%,14.5%);fill-opacity:1.0\">5</text></g></g><g class=\"toytree-TipLabels\" style=\"fill:rgb(14.5%,14.5%,14.5%);fill-opacity:1.0;font-family:Helvetica;font-size:12px;font-weight:300;vertical-align:baseline;white-space:pre;stroke:none\"><g class=\"toytree-TipLabel\" transform=\"translate(575.125,235.558)rotate(45)\"><text x=\"10.0\" y=\"3.066\" style=\"fill:rgb(14.5%,14.5%,14.5%);fill-opacity:1.0\">a</text></g><g class=\"toytree-TipLabel\" transform=\"translate(575.125,64.4422)rotate(-45)\"><text x=\"10.0\" y=\"3.066\" style=\"fill:rgb(14.5%,14.5%,14.5%);fill-opacity:1.0\">b</text></g><g class=\"toytree-TipLabel\" transform=\"translate(346.002,64.4422)rotate(22.5)\"><text x=\"-16.0\" y=\"3.066\" style=\"fill:rgb(14.5%,14.5%,14.5%);fill-opacity:1.0\">c</text></g><g class=\"toytree-TipLabel\" transform=\"translate(346.002,235.558)rotate(-22.5)\"><text x=\"-16.672\" y=\"3.066\" style=\"fill:rgb(14.5%,14.5%,14.5%);fill-opacity:1.0\">d</text></g></g></g></g></g></svg><div class=\"toyplot-behavior\"><script>(function()\n",
       "{\n",
       "var modules={};\n",
       "})();</script></div></div>"
      ]
     },
     "metadata": {},
     "output_type": "display_data"
    }
   ],
   "source": [
    "toytree.mtree([rooted, unrooted]).draw(**style, width=600);"
   ]
  },
  {
   "cell_type": "markdown",
   "metadata": {},
   "source": [
    "### \"Pinching\" to root trees\n",
    "The best way to think about rooting of evolutionary trees is to think of the edges as lengths of string connecting the nodes of the tree. The process of rooting is analagous to selecting some point along a string (edge), pinching it, and pulling it back to form a new node that will be the root. Let's try this on our unrooted tree by inserting the root node at different edges of the tree. \n",
    "\n",
    "In the first example below we insert a node to make \"a\" and \"b\" form a clade, which makes this tree topology the same as the rooted tree above.\n",
    "We can now plot this \"re-rooted\" tree in both layout styles, and see that it is rooted, and that we can interpret that \"a\" and \"b\" share an exclusive MRCA separately from \"c\" and \"d\", forming a monophyletic clade."
   ]
  },
  {
   "cell_type": "code",
   "execution_count": 29,
   "metadata": {},
   "outputs": [
    {
     "data": {
      "text/html": [
       "<div class=\"toyplot\" id=\"tacdb8fb072254005995b5a383a63fa52\" style=\"text-align:center\"><svg class=\"toyplot-canvas-Canvas\" xmlns:toyplot=\"http://www.sandia.gov/toyplot\" xmlns:xlink=\"http://www.w3.org/1999/xlink\" xmlns=\"http://www.w3.org/2000/svg\" width=\"350.0px\" height=\"300.0px\" viewBox=\"0 0 350.0 300.0\" preserveAspectRatio=\"xMidYMid meet\" style=\"background-color:transparent;border-color:#292724;border-style:none;border-width:1.0;fill:rgb(16.1%,15.3%,14.1%);fill-opacity:1.0;font-family:Helvetica;font-size:12px;opacity:1.0;stroke:rgb(16.1%,15.3%,14.1%);stroke-opacity:1.0;stroke-width:1.0\" id=\"t168d32b72ab64d2cbdcc7ea8845e8417\"><g class=\"toyplot-coordinates-Cartesian\" id=\"t2df39e69e76b4703a4bad698b426e5f7\"><clipPath id=\"t461b4ac62e934134b6171034c0c9082a\"><rect x=\"35.0\" y=\"35.0\" width=\"280.0\" height=\"230.0\"></rect></clipPath><g clip-path=\"url(#t461b4ac62e934134b6171034c0c9082a)\"><g class=\"toytree-mark-Toytree\" id=\"ta030727546ec407c9aabd12a2234d138\"><g class=\"toytree-Edges\" style=\"stroke:rgb(14.5%,14.5%,14.5%);stroke-opacity:1.0;stroke-linecap:round;stroke-width:2.0;fill:none\"><path d=\"M 220.3 150.0 L 284.2 237.2\" id=\"4,0\" style=\"\"></path><path d=\"M 220.3 150.0 L 284.2 62.8\" id=\"4,1\" style=\"\"></path><path d=\"M 129.7 150.0 L 65.8 62.8\" id=\"5,2\" style=\"\"></path><path d=\"M 129.7 150.0 L 65.8 237.2\" id=\"5,3\" style=\"\"></path><path d=\"M 175.0 150.0 L 220.3 150.0\" id=\"6,4\" style=\"\"></path><path d=\"M 175.0 150.0 L 129.7 150.0\" id=\"6,5\" style=\"\"></path></g><g class=\"toytree-AdmixEdges\" style=\"fill:rgb(0.0%,0.0%,0.0%);fill-opacity:0.0;stroke:rgb(90.6%,54.1%,76.5%);stroke-opacity:0.6;font-size:14px;stroke-linecap:round;stroke-width:5\"></g><g class=\"toytree-Nodes\" style=\"fill:rgb(82.7%,82.7%,82.7%);fill-opacity:1.0;stroke:rgb(14.9%,14.9%,14.9%);stroke-opacity:1.0;stroke-width:1.5\"><g id=\"Node-4\" transform=\"translate(220.252,150)\"><circle r=\"8.0\"></circle></g><g id=\"Node-5\" transform=\"translate(129.748,150)\"><circle r=\"8.0\"></circle></g><g id=\"Node-6\" transform=\"translate(175,150)\"><circle r=\"8.0\"></circle></g></g><g class=\"toytree-NodeLabels\" style=\"font-family:Helvetica;font-size:9px;font-weight:300;vertical-align:baseline;white-space:pre;stroke:none\"><g class=\"toytree-NodeLabel\" transform=\"translate(220.252,150)\"><text x=\"-2.5020000000000002\" y=\"2.2995\" style=\"fill:rgb(14.5%,14.5%,14.5%);fill-opacity:1.0\">4</text></g><g class=\"toytree-NodeLabel\" transform=\"translate(129.748,150)\"><text x=\"-2.5020000000000002\" y=\"2.2995\" style=\"fill:rgb(14.5%,14.5%,14.5%);fill-opacity:1.0\">5</text></g><g class=\"toytree-NodeLabel\" transform=\"translate(175,150)\"><text x=\"-2.5020000000000002\" y=\"2.2995\" style=\"fill:rgb(14.5%,14.5%,14.5%);fill-opacity:1.0\">6</text></g></g><g class=\"toytree-TipLabels\" style=\"fill:rgb(14.5%,14.5%,14.5%);fill-opacity:1.0;font-family:Helvetica;font-size:12px;font-weight:300;vertical-align:baseline;white-space:pre;stroke:none\"><g class=\"toytree-TipLabel\" transform=\"translate(284.247,237.23)rotate(30.3612)\"><text x=\"10.0\" y=\"3.066\" style=\"fill:rgb(14.5%,14.5%,14.5%);fill-opacity:1.0\">c</text></g><g class=\"toytree-TipLabel\" transform=\"translate(284.247,62.77)rotate(-30.3612)\"><text x=\"10.0\" y=\"3.066\" style=\"fill:rgb(14.5%,14.5%,14.5%);fill-opacity:1.0\">d</text></g><g class=\"toytree-TipLabel\" transform=\"translate(65.7532,62.77)rotate(30.3612)\"><text x=\"-16.672\" y=\"3.066\" style=\"fill:rgb(14.5%,14.5%,14.5%);fill-opacity:1.0\">a</text></g><g class=\"toytree-TipLabel\" transform=\"translate(65.7532,237.23)rotate(-30.3612)\"><text x=\"-16.672\" y=\"3.066\" style=\"fill:rgb(14.5%,14.5%,14.5%);fill-opacity:1.0\">b</text></g></g></g></g></g></svg><div class=\"toyplot-behavior\"><script>(function()\n",
       "{\n",
       "var modules={};\n",
       "})();</script></div></div>"
      ]
     },
     "metadata": {},
     "output_type": "display_data"
    },
    {
     "data": {
      "text/html": [
       "<div class=\"toyplot\" id=\"ta930bb63ce0c48b2b332256b17ce4a93\" style=\"text-align:center\"><svg class=\"toyplot-canvas-Canvas\" xmlns:toyplot=\"http://www.sandia.gov/toyplot\" xmlns:xlink=\"http://www.w3.org/1999/xlink\" xmlns=\"http://www.w3.org/2000/svg\" width=\"300.0px\" height=\"275.0px\" viewBox=\"0 0 300.0 275.0\" preserveAspectRatio=\"xMidYMid meet\" style=\"background-color:transparent;border-color:#292724;border-style:none;border-width:1.0;fill:rgb(16.1%,15.3%,14.1%);fill-opacity:1.0;font-family:Helvetica;font-size:12px;opacity:1.0;stroke:rgb(16.1%,15.3%,14.1%);stroke-opacity:1.0;stroke-width:1.0\" id=\"t42b21b2980094900830273c51d2461e1\"><g class=\"toyplot-coordinates-Cartesian\" id=\"t0241c61dfaf74499b4ec3af00248907b\"><clipPath id=\"t8fd3fab0f5af480c8a977136aeb98566\"><rect x=\"35.0\" y=\"35.0\" width=\"230.0\" height=\"205.0\"></rect></clipPath><g clip-path=\"url(#t8fd3fab0f5af480c8a977136aeb98566)\"><g class=\"toytree-mark-Toytree\" id=\"t44418320226445c9a38547e2e5d74bb1\"><g class=\"toytree-Edges\" style=\"stroke:rgb(14.5%,14.5%,14.5%);stroke-opacity:1.0;stroke-linecap:round;stroke-width:2.0;fill:none\"><path d=\"M 136.6 190.1 L 136.6 216.4 L 215.7 216.4\" id=\"4,0\" style=\"\"></path><path d=\"M 136.6 190.1 L 136.6 163.8 L 215.7 163.8\" id=\"4,1\" style=\"\"></path><path d=\"M 136.6 84.9 L 136.6 111.2 L 215.7 111.2\" id=\"5,2\" style=\"\"></path><path d=\"M 136.6 84.9 L 136.6 58.6 L 215.7 58.6\" id=\"5,3\" style=\"\"></path><path d=\"M 57.5 137.5 L 57.5 190.1 L 136.6 190.1\" id=\"6,4\" style=\"\"></path><path d=\"M 57.5 137.5 L 57.5 84.9 L 136.6 84.9\" id=\"6,5\" style=\"\"></path></g><g class=\"toytree-AdmixEdges\" style=\"fill:rgb(0.0%,0.0%,0.0%);fill-opacity:0.0;stroke:rgb(90.6%,54.1%,76.5%);stroke-opacity:0.6;font-size:14px;stroke-linecap:round;stroke-width:5\"></g><g class=\"toytree-Nodes\" style=\"fill:rgb(82.7%,82.7%,82.7%);fill-opacity:1.0;stroke:rgb(14.5%,14.5%,14.5%);stroke-opacity:1.0;stroke-width:1.5\"><g id=\"Node-0\" transform=\"translate(215.715,216.43)\"><circle r=\"8.0\"></circle></g><g id=\"Node-1\" transform=\"translate(215.715,163.81)\"><circle r=\"8.0\"></circle></g><g id=\"Node-2\" transform=\"translate(215.715,111.19)\"><circle r=\"8.0\"></circle></g><g id=\"Node-3\" transform=\"translate(215.715,58.5696)\"><circle r=\"8.0\"></circle></g><g id=\"Node-4\" transform=\"translate(136.615,190.12)\"><circle r=\"8.0\"></circle></g><g id=\"Node-5\" transform=\"translate(136.615,84.8797)\"><circle r=\"8.0\"></circle></g><g id=\"Node-6\" transform=\"translate(57.5145,137.5)\"><circle r=\"8.0\"></circle></g></g><g class=\"toytree-NodeLabels\" style=\"font-family:Helvetica;font-size:9px;font-weight:300;vertical-align:baseline;white-space:pre;stroke:none\"><g class=\"toytree-NodeLabel\" transform=\"translate(215.715,216.43)\"><text x=\"-2.5020000000000002\" y=\"2.2995\" style=\"fill:rgb(14.5%,14.5%,14.5%);fill-opacity:1.0\">0</text></g><g class=\"toytree-NodeLabel\" transform=\"translate(215.715,163.81)\"><text x=\"-2.5020000000000002\" y=\"2.2995\" style=\"fill:rgb(14.5%,14.5%,14.5%);fill-opacity:1.0\">1</text></g><g class=\"toytree-NodeLabel\" transform=\"translate(215.715,111.19)\"><text x=\"-2.5020000000000002\" y=\"2.2995\" style=\"fill:rgb(14.5%,14.5%,14.5%);fill-opacity:1.0\">2</text></g><g class=\"toytree-NodeLabel\" transform=\"translate(215.715,58.5696)\"><text x=\"-2.5020000000000002\" y=\"2.2995\" style=\"fill:rgb(14.5%,14.5%,14.5%);fill-opacity:1.0\">3</text></g><g class=\"toytree-NodeLabel\" transform=\"translate(136.615,190.12)\"><text x=\"-2.5020000000000002\" y=\"2.2995\" style=\"fill:rgb(14.5%,14.5%,14.5%);fill-opacity:1.0\">4</text></g><g class=\"toytree-NodeLabel\" transform=\"translate(136.615,84.8797)\"><text x=\"-2.5020000000000002\" y=\"2.2995\" style=\"fill:rgb(14.5%,14.5%,14.5%);fill-opacity:1.0\">5</text></g><g class=\"toytree-NodeLabel\" transform=\"translate(57.5145,137.5)\"><text x=\"-2.5020000000000002\" y=\"2.2995\" style=\"fill:rgb(14.5%,14.5%,14.5%);fill-opacity:1.0\">6</text></g></g><g class=\"toytree-TipLabels\" style=\"fill:rgb(14.5%,14.5%,14.5%);fill-opacity:1.0;font-family:Helvetica;font-size:12px;font-weight:300;vertical-align:baseline;white-space:pre;stroke:none\"><g class=\"toytree-TipLabel\" transform=\"translate(215.715,216.43)\"><text x=\"15.0\" y=\"3.066\" style=\"fill:rgb(14.5%,14.5%,14.5%);fill-opacity:1.0\">c</text></g><g class=\"toytree-TipLabel\" transform=\"translate(215.715,163.81)\"><text x=\"15.0\" y=\"3.066\" style=\"fill:rgb(14.5%,14.5%,14.5%);fill-opacity:1.0\">d</text></g><g class=\"toytree-TipLabel\" transform=\"translate(215.715,111.19)\"><text x=\"15.0\" y=\"3.066\" style=\"fill:rgb(14.5%,14.5%,14.5%);fill-opacity:1.0\">a</text></g><g class=\"toytree-TipLabel\" transform=\"translate(215.715,58.5696)\"><text x=\"15.0\" y=\"3.066\" style=\"fill:rgb(14.5%,14.5%,14.5%);fill-opacity:1.0\">b</text></g></g></g></g></g></svg><div class=\"toyplot-behavior\"><script>(function()\n",
       "{\n",
       "var modules={};\n",
       "})();</script></div></div>"
      ]
     },
     "metadata": {},
     "output_type": "display_data"
    }
   ],
   "source": [
    "# root the tree by inserting a node along an edge that \"a\", \"b\" a clade.\n",
    "unrooted.root(\"a\", \"b\").draw(**style, width=350);\n",
    "unrooted.root(\"a\", \"b\").draw(ts='s');"
   ]
  },
  {
   "cell_type": "markdown",
   "metadata": {},
   "source": [
    "But what if we rooted it elsewhere? This is key to my statement above that \"we don't actually know which nodes are descended from which\" on an unrooted tree. For example, if we rooted the tree on sample \"a\", then \"a\" shares a MRCA with a clade formed by \"b\", \"c\" and \"d\". In other words, given this rooting, \"a\" and \"b\" *do not* share an *exclusive* MRCA separate from \"c\" and \"d\", as they did in the other example above."
   ]
  },
  {
   "cell_type": "code",
   "execution_count": 30,
   "metadata": {},
   "outputs": [
    {
     "data": {
      "text/html": [
       "<div class=\"toyplot\" id=\"t518520f906fe40b0a8cef8ba0bf37f67\" style=\"text-align:center\"><svg class=\"toyplot-canvas-Canvas\" xmlns:toyplot=\"http://www.sandia.gov/toyplot\" xmlns:xlink=\"http://www.w3.org/1999/xlink\" xmlns=\"http://www.w3.org/2000/svg\" width=\"350.0px\" height=\"300.0px\" viewBox=\"0 0 350.0 300.0\" preserveAspectRatio=\"xMidYMid meet\" style=\"background-color:transparent;border-color:#292724;border-style:none;border-width:1.0;fill:rgb(16.1%,15.3%,14.1%);fill-opacity:1.0;font-family:Helvetica;font-size:12px;opacity:1.0;stroke:rgb(16.1%,15.3%,14.1%);stroke-opacity:1.0;stroke-width:1.0\" id=\"te21a0b4e0d1244f9be3da2f224676011\"><g class=\"toyplot-coordinates-Cartesian\" id=\"t17098fc365384215a534f29ac9f09f29\"><clipPath id=\"tc5f6f0bbbb054e61990ef036f8d681eb\"><rect x=\"35.0\" y=\"35.0\" width=\"280.0\" height=\"230.0\"></rect></clipPath><g clip-path=\"url(#tc5f6f0bbbb054e61990ef036f8d681eb)\"><g class=\"toytree-mark-Toytree\" id=\"t387c2f9e68ab433985c97a0995bbf82f\"><g class=\"toytree-Edges\" style=\"stroke:rgb(14.5%,14.5%,14.5%);stroke-opacity:1.0;stroke-linecap:round;stroke-width:2.0;fill:none\"><path d=\"M 253.1 193.1 L 285.2 235.6\" id=\"6,0\" style=\"\"></path><path d=\"M 221.0 150.5 L 285.2 65.4\" id=\"5,1\" style=\"\"></path><path d=\"M 130.1 150.5 L 65.9 65.4\" id=\"4,2\" style=\"\"></path><path d=\"M 130.1 150.5 L 65.9 235.6\" id=\"4,3\" style=\"\"></path><path d=\"M 221.0 150.5 L 130.1 150.5\" id=\"5,4\" style=\"\"></path><path d=\"M 253.1 193.1 L 221.0 150.5\" id=\"6,5\" style=\"\"></path></g><g class=\"toytree-AdmixEdges\" style=\"fill:rgb(0.0%,0.0%,0.0%);fill-opacity:0.0;stroke:rgb(90.6%,54.1%,76.5%);stroke-opacity:0.6;font-size:14px;stroke-linecap:round;stroke-width:5\"></g><g class=\"toytree-Nodes\" style=\"fill:rgb(82.7%,82.7%,82.7%);fill-opacity:1.0;stroke:rgb(14.9%,14.9%,14.9%);stroke-opacity:1.0;stroke-width:1.5\"><g id=\"Node-4\" transform=\"translate(130.148,150.516)\"><circle r=\"8.0\"></circle></g><g id=\"Node-5\" transform=\"translate(220.973,150.516)\"><circle r=\"8.0\"></circle></g><g id=\"Node-6\" transform=\"translate(253.084,193.074)\"><circle r=\"8.0\"></circle></g></g><g class=\"toytree-NodeLabels\" style=\"font-family:Helvetica;font-size:9px;font-weight:300;vertical-align:baseline;white-space:pre;stroke:none\"><g class=\"toytree-NodeLabel\" transform=\"translate(130.148,150.516)\"><text x=\"-2.5020000000000002\" y=\"2.2995\" style=\"fill:rgb(14.5%,14.5%,14.5%);fill-opacity:1.0\">4</text></g><g class=\"toytree-NodeLabel\" transform=\"translate(220.973,150.516)\"><text x=\"-2.5020000000000002\" y=\"2.2995\" style=\"fill:rgb(14.5%,14.5%,14.5%);fill-opacity:1.0\">5</text></g><g class=\"toytree-NodeLabel\" transform=\"translate(253.084,193.074)\"><text x=\"-2.5020000000000002\" y=\"2.2995\" style=\"fill:rgb(14.5%,14.5%,14.5%);fill-opacity:1.0\">6</text></g></g><g class=\"toytree-TipLabels\" style=\"fill:rgb(14.5%,14.5%,14.5%);fill-opacity:1.0;font-family:Helvetica;font-size:12px;font-weight:300;vertical-align:baseline;white-space:pre;stroke:none\"><g class=\"toytree-TipLabel\" transform=\"translate(285.195,235.632)rotate(45)\"><text x=\"10.0\" y=\"3.066\" style=\"fill:rgb(14.5%,14.5%,14.5%);fill-opacity:1.0\">a</text></g><g class=\"toytree-TipLabel\" transform=\"translate(285.195,65.4003)rotate(-71.5651)\"><text x=\"10.0\" y=\"3.066\" style=\"fill:rgb(14.5%,14.5%,14.5%);fill-opacity:1.0\">b</text></g><g class=\"toytree-TipLabel\" transform=\"translate(65.9261,65.4003)rotate(22.5)\"><text x=\"-16.0\" y=\"3.066\" style=\"fill:rgb(14.5%,14.5%,14.5%);fill-opacity:1.0\">c</text></g><g class=\"toytree-TipLabel\" transform=\"translate(65.9261,235.632)rotate(-22.5)\"><text x=\"-16.672\" y=\"3.066\" style=\"fill:rgb(14.5%,14.5%,14.5%);fill-opacity:1.0\">d</text></g></g></g></g></g></svg><div class=\"toyplot-behavior\"><script>(function()\n",
       "{\n",
       "var modules={};\n",
       "})();</script></div></div>"
      ]
     },
     "metadata": {},
     "output_type": "display_data"
    },
    {
     "data": {
      "text/html": [
       "<div class=\"toyplot\" id=\"t8ca1aef10ffa4ec0b5912dc717a8155c\" style=\"text-align:center\"><svg class=\"toyplot-canvas-Canvas\" xmlns:toyplot=\"http://www.sandia.gov/toyplot\" xmlns:xlink=\"http://www.w3.org/1999/xlink\" xmlns=\"http://www.w3.org/2000/svg\" width=\"300.0px\" height=\"275.0px\" viewBox=\"0 0 300.0 275.0\" preserveAspectRatio=\"xMidYMid meet\" style=\"background-color:transparent;border-color:#292724;border-style:none;border-width:1.0;fill:rgb(16.1%,15.3%,14.1%);fill-opacity:1.0;font-family:Helvetica;font-size:12px;opacity:1.0;stroke:rgb(16.1%,15.3%,14.1%);stroke-opacity:1.0;stroke-width:1.0\" id=\"t8d155fa930ac4579bb1157a4a5da29d8\"><g class=\"toyplot-coordinates-Cartesian\" id=\"t8701c3bd3ad042bc8de94fc3094dc9df\"><clipPath id=\"tbcb9d45c3a4947f5ac20a9ea89683f08\"><rect x=\"35.0\" y=\"35.0\" width=\"230.0\" height=\"205.0\"></rect></clipPath><g clip-path=\"url(#tbcb9d45c3a4947f5ac20a9ea89683f08)\"><g class=\"toytree-mark-Toytree\" id=\"t704bf1aa70fb438e8f1d0dabba9eaf7e\"><g class=\"toytree-Edges\" style=\"stroke:rgb(14.5%,14.5%,14.5%);stroke-opacity:1.0;stroke-linecap:round;stroke-width:2.0;fill:none\"><path d=\"M 57.5 170.4 L 57.5 216.4 L 215.7 216.4\" id=\"6,0\" style=\"\"></path><path d=\"M 110.2 124.3 L 110.2 163.8 L 215.7 163.8\" id=\"5,1\" style=\"\"></path><path d=\"M 163.0 84.9 L 163.0 111.2 L 215.7 111.2\" id=\"4,2\" style=\"\"></path><path d=\"M 163.0 84.9 L 163.0 58.6 L 215.7 58.6\" id=\"4,3\" style=\"\"></path><path d=\"M 110.2 124.3 L 110.2 84.9 L 163.0 84.9\" id=\"5,4\" style=\"\"></path><path d=\"M 57.5 170.4 L 57.5 124.3 L 110.2 124.3\" id=\"6,5\" style=\"\"></path></g><g class=\"toytree-AdmixEdges\" style=\"fill:rgb(0.0%,0.0%,0.0%);fill-opacity:0.0;stroke:rgb(90.6%,54.1%,76.5%);stroke-opacity:0.6;font-size:14px;stroke-linecap:round;stroke-width:5\"></g><g class=\"toytree-Nodes\" style=\"fill:rgb(82.7%,82.7%,82.7%);fill-opacity:1.0;stroke:rgb(14.5%,14.5%,14.5%);stroke-opacity:1.0;stroke-width:1.5\"><g id=\"Node-0\" transform=\"translate(215.715,216.43)\"><circle r=\"8.0\"></circle></g><g id=\"Node-1\" transform=\"translate(215.715,163.81)\"><circle r=\"8.0\"></circle></g><g id=\"Node-2\" transform=\"translate(215.715,111.19)\"><circle r=\"8.0\"></circle></g><g id=\"Node-3\" transform=\"translate(215.715,58.5696)\"><circle r=\"8.0\"></circle></g><g id=\"Node-4\" transform=\"translate(162.981,84.8797)\"><circle r=\"8.0\"></circle></g><g id=\"Node-5\" transform=\"translate(110.248,124.345)\"><circle r=\"8.0\"></circle></g><g id=\"Node-6\" transform=\"translate(57.5145,170.388)\"><circle r=\"8.0\"></circle></g></g><g class=\"toytree-NodeLabels\" style=\"font-family:Helvetica;font-size:9px;font-weight:300;vertical-align:baseline;white-space:pre;stroke:none\"><g class=\"toytree-NodeLabel\" transform=\"translate(215.715,216.43)\"><text x=\"-2.5020000000000002\" y=\"2.2995\" style=\"fill:rgb(14.5%,14.5%,14.5%);fill-opacity:1.0\">0</text></g><g class=\"toytree-NodeLabel\" transform=\"translate(215.715,163.81)\"><text x=\"-2.5020000000000002\" y=\"2.2995\" style=\"fill:rgb(14.5%,14.5%,14.5%);fill-opacity:1.0\">1</text></g><g class=\"toytree-NodeLabel\" transform=\"translate(215.715,111.19)\"><text x=\"-2.5020000000000002\" y=\"2.2995\" style=\"fill:rgb(14.5%,14.5%,14.5%);fill-opacity:1.0\">2</text></g><g class=\"toytree-NodeLabel\" transform=\"translate(215.715,58.5696)\"><text x=\"-2.5020000000000002\" y=\"2.2995\" style=\"fill:rgb(14.5%,14.5%,14.5%);fill-opacity:1.0\">3</text></g><g class=\"toytree-NodeLabel\" transform=\"translate(162.981,84.8797)\"><text x=\"-2.5020000000000002\" y=\"2.2995\" style=\"fill:rgb(14.5%,14.5%,14.5%);fill-opacity:1.0\">4</text></g><g class=\"toytree-NodeLabel\" transform=\"translate(110.248,124.345)\"><text x=\"-2.5020000000000002\" y=\"2.2995\" style=\"fill:rgb(14.5%,14.5%,14.5%);fill-opacity:1.0\">5</text></g><g class=\"toytree-NodeLabel\" transform=\"translate(57.5145,170.388)\"><text x=\"-2.5020000000000002\" y=\"2.2995\" style=\"fill:rgb(14.5%,14.5%,14.5%);fill-opacity:1.0\">6</text></g></g><g class=\"toytree-TipLabels\" style=\"fill:rgb(14.5%,14.5%,14.5%);fill-opacity:1.0;font-family:Helvetica;font-size:12px;font-weight:300;vertical-align:baseline;white-space:pre;stroke:none\"><g class=\"toytree-TipLabel\" transform=\"translate(215.715,216.43)\"><text x=\"15.0\" y=\"3.066\" style=\"fill:rgb(14.5%,14.5%,14.5%);fill-opacity:1.0\">a</text></g><g class=\"toytree-TipLabel\" transform=\"translate(215.715,163.81)\"><text x=\"15.0\" y=\"3.066\" style=\"fill:rgb(14.5%,14.5%,14.5%);fill-opacity:1.0\">b</text></g><g class=\"toytree-TipLabel\" transform=\"translate(215.715,111.19)\"><text x=\"15.0\" y=\"3.066\" style=\"fill:rgb(14.5%,14.5%,14.5%);fill-opacity:1.0\">c</text></g><g class=\"toytree-TipLabel\" transform=\"translate(215.715,58.5696)\"><text x=\"15.0\" y=\"3.066\" style=\"fill:rgb(14.5%,14.5%,14.5%);fill-opacity:1.0\">d</text></g></g></g></g></g></svg><div class=\"toyplot-behavior\"><script>(function()\n",
       "{\n",
       "var modules={};\n",
       "})();</script></div></div>"
      ]
     },
     "metadata": {},
     "output_type": "display_data"
    }
   ],
   "source": [
    "# root the tree by inserting a node along an edge that \"a\", \"b\" a clade.\n",
    "unrooted.root(\"a\").draw(**style, width=350);\n",
    "unrooted.root(\"a\").draw(ts='s');"
   ]
  },
  {
   "cell_type": "markdown",
   "metadata": {},
   "source": [
    "**Aside:** \n",
    "As a way of storing tree information, the newick format alone has a shortcoming in that a trichotomy at the root of the tree can actually have two different meanings: (1) the tree is unrooted; or (2) the tree is rooted but the deepest splits is unresolved (it is a polytomy). As we've just learned, these two scenarios would lead to trees that should be interpreted differently. Fortunately, other tree file formats such as NEXUS can include additional metadata that indicates whether or not the tree a tree is rooted, and additionally, researchers will typically be able to use their taxonomic knowledge of a system to infer this as well. "
   ]
  },
  {
   "cell_type": "markdown",
   "metadata": {},
   "source": [
    "### Edge length information (Divergence times, i.e., ages of clades)\n",
    "Additional information such as the ages of clades is easy to include in the newick format. Below you can see that the lengths of branches are simply numeric values placed next to parentheses or tips (nodes of the tree). Below we use a different tree style for plotting (`tree_style='n'`) since this style will show branch length differences. \n",
    "\n",
    "The units of this plot are not indicated. Thus we do not know if it is thousands of years, millions of years, or if the units are even meant to represent time. **Branch lengths on a tree can represent different things**. Sometimes we represent the number of *character differences* separating taxa as units of branch lengths, and these characters could be counted from morphological data, or genetic substitutions, or even by counting other features of the genome such as inversions or transposable elements. \n",
    "\n",
    "If a tree is inferred from DNA sequence data then the branch lengths could represent the number of observed DNA differences between species. Converting units of nucleotide or amino acid substitutions into units of time is a tricky business that involves making assumptions about the rate of mutations and the generation times of organisms."
   ]
  },
  {
   "cell_type": "code",
   "execution_count": 32,
   "metadata": {},
   "outputs": [
    {
     "data": {
      "text/html": [
       "<div class=\"toyplot\" id=\"t6f068c822595428c99359dd3d3c5312f\" style=\"text-align:center\"><svg class=\"toyplot-canvas-Canvas\" xmlns:toyplot=\"http://www.sandia.gov/toyplot\" xmlns:xlink=\"http://www.w3.org/1999/xlink\" xmlns=\"http://www.w3.org/2000/svg\" width=\"300.0px\" height=\"275.0px\" viewBox=\"0 0 300.0 275.0\" preserveAspectRatio=\"xMidYMid meet\" style=\"background-color:transparent;border-color:#292724;border-style:none;border-width:1.0;fill:rgb(16.1%,15.3%,14.1%);fill-opacity:1.0;font-family:Helvetica;font-size:12px;opacity:1.0;stroke:rgb(16.1%,15.3%,14.1%);stroke-opacity:1.0;stroke-width:1.0\" id=\"t0fc7eef26db1442c989b9963a134b7b0\"><g class=\"toyplot-coordinates-Cartesian\" id=\"t6410447758a1442ea67cf3722aeff02a\"><clipPath id=\"tdb21e71e1ca44e92a4894924bc420e1f\"><rect x=\"35.0\" y=\"35.0\" width=\"230.0\" height=\"205.0\"></rect></clipPath><g clip-path=\"url(#tdb21e71e1ca44e92a4894924bc420e1f)\"><g class=\"toytree-mark-Toytree\" id=\"t7f1c521480ce42cf9999982e4f9dd11d\"><g class=\"toytree-Edges\" style=\"stroke:rgb(14.5%,14.5%,14.5%);stroke-opacity:1.0;stroke-linecap:round;stroke-width:2.0;fill:none\"><path d=\"M 50.6 180.5 L 50.6 218.3 L 168.6 218.3\" id=\"8,0\" style=\"\"></path><path d=\"M 89.9 142.6 L 89.9 177.9 L 168.6 177.9\" id=\"7,1\" style=\"\"></path><path d=\"M 129.2 107.2 L 129.2 137.5 L 168.6 137.5\" id=\"6,2\" style=\"\"></path><path d=\"M 158.7 76.9 L 158.7 97.1 L 168.6 97.1\" id=\"5,3\" style=\"\"></path><path d=\"M 158.7 76.9 L 158.7 56.7 L 168.6 56.7\" id=\"5,4\" style=\"\"></path><path d=\"M 129.2 107.2 L 129.2 76.9 L 158.7 76.9\" id=\"6,5\" style=\"\"></path><path d=\"M 89.9 142.6 L 89.9 107.2 L 129.2 107.2\" id=\"7,6\" style=\"\"></path><path d=\"M 50.6 180.5 L 50.6 142.6 L 89.9 142.6\" id=\"8,7\" style=\"\"></path></g><g class=\"toytree-AdmixEdges\" style=\"fill:rgb(0.0%,0.0%,0.0%);fill-opacity:0.0;stroke:rgb(90.6%,54.1%,76.5%);stroke-opacity:0.6;font-size:14px;stroke-linecap:round;stroke-width:5\"></g><g class=\"toytree-Nodes\" style=\"fill:rgb(40.0%,76.1%,64.7%);fill-opacity:1.0;stroke:rgb(14.9%,14.9%,14.9%);stroke-opacity:1.0;stroke-width:1.5\"></g><g class=\"toytree-TipLabels\" style=\"fill:rgb(14.5%,14.5%,14.5%);fill-opacity:1.0;font-family:Helvetica;font-size:12px;font-weight:300;vertical-align:baseline;white-space:pre;stroke:none\"><g class=\"toytree-TipLabel\" transform=\"translate(168.559,218.347)\"><text x=\"15.0\" y=\"3.066\" style=\"fill:rgb(14.5%,14.5%,14.5%);fill-opacity:1.0\">gibbon</text></g><g class=\"toytree-TipLabel\" transform=\"translate(168.559,177.924)\"><text x=\"15.0\" y=\"3.066\" style=\"fill:rgb(14.5%,14.5%,14.5%);fill-opacity:1.0\">orangutan</text></g><g class=\"toytree-TipLabel\" transform=\"translate(168.559,137.5)\"><text x=\"15.0\" y=\"3.066\" style=\"fill:rgb(14.5%,14.5%,14.5%);fill-opacity:1.0\">gorilla</text></g><g class=\"toytree-TipLabel\" transform=\"translate(168.559,97.0763)\"><text x=\"15.0\" y=\"3.066\" style=\"fill:rgb(14.5%,14.5%,14.5%);fill-opacity:1.0\">chimp</text></g><g class=\"toytree-TipLabel\" transform=\"translate(168.559,56.6526)\"><text x=\"15.0\" y=\"3.066\" style=\"fill:rgb(14.5%,14.5%,14.5%);fill-opacity:1.0\">human</text></g></g></g></g><g class=\"toyplot-coordinates-Axis\" id=\"t6b6a361d8cf14817ad52dbd5ed5b916c\" transform=\"translate(50.0,225.0)translate(0,15.0)\"><line x1=\"0.589845224613049\" y1=\"0\" x2=\"118.55889014722536\" y2=\"0\" style=\"\"></line><g><line x1=\"0.589845224613049\" y1=\"0\" x2=\"0.589845224613049\" y2=\"-5\" style=\"\"></line><line x1=\"39.91286019881715\" y1=\"0\" x2=\"39.91286019881715\" y2=\"-5\" style=\"\"></line><line x1=\"79.23587517302126\" y1=\"0\" x2=\"79.23587517302126\" y2=\"-5\" style=\"\"></line><line x1=\"118.55889014722536\" y1=\"0\" x2=\"118.55889014722536\" y2=\"-5\" style=\"\"></line></g><g><g transform=\"translate(0.589845224613049,6)\"><text x=\"-2.78\" y=\"8.555\" style=\"fill:rgb(16.1%,15.3%,14.1%);fill-opacity:1.0;font-family:helvetica;font-size:10.0px;font-weight:normal;stroke:none;vertical-align:baseline;white-space:pre\">3</text></g><g transform=\"translate(39.91286019881715,6)\"><text x=\"-2.78\" y=\"8.555\" style=\"fill:rgb(16.1%,15.3%,14.1%);fill-opacity:1.0;font-family:helvetica;font-size:10.0px;font-weight:normal;stroke:none;vertical-align:baseline;white-space:pre\">2</text></g><g transform=\"translate(79.23587517302126,6)\"><text x=\"-2.78\" y=\"8.555\" style=\"fill:rgb(16.1%,15.3%,14.1%);fill-opacity:1.0;font-family:helvetica;font-size:10.0px;font-weight:normal;stroke:none;vertical-align:baseline;white-space:pre\">1</text></g><g transform=\"translate(118.55889014722536,6)\"><text x=\"-2.78\" y=\"8.555\" style=\"fill:rgb(16.1%,15.3%,14.1%);fill-opacity:1.0;font-family:helvetica;font-size:10.0px;font-weight:normal;stroke:none;vertical-align:baseline;white-space:pre\">0</text></g></g><g class=\"toyplot-coordinates-Axis-coordinates\" style=\"visibility:hidden\" transform=\"\"><line x1=\"0\" x2=\"0\" y1=\"-3.0\" y2=\"4.5\" style=\"stroke:rgb(43.9%,50.2%,56.5%);stroke-opacity:1.0;stroke-width:1.0\"></line><text x=\"0\" y=\"-6\" style=\"alignment-baseline:alphabetic;fill:rgb(43.9%,50.2%,56.5%);fill-opacity:1.0;font-size:10px;font-weight:normal;stroke:none;text-anchor:middle\"></text></g></g></g></svg><div class=\"toyplot-behavior\"><script>(function()\n",
       "{\n",
       "var modules={};\n",
       "modules[\"toyplot/canvas/id\"] = \"t0fc7eef26db1442c989b9963a134b7b0\";\n",
       "modules[\"toyplot/canvas\"] = (function(canvas_id)\n",
       "    {\n",
       "        return document.querySelector(\"#\" + canvas_id);\n",
       "    })(modules[\"toyplot/canvas/id\"]);\n",
       "modules[\"toyplot.coordinates.Axis\"] = (\n",
       "        function(canvas)\n",
       "        {\n",
       "            function sign(x)\n",
       "            {\n",
       "                return x < 0 ? -1 : x > 0 ? 1 : 0;\n",
       "            }\n",
       "\n",
       "            function mix(a, b, amount)\n",
       "            {\n",
       "                return ((1.0 - amount) * a) + (amount * b);\n",
       "            }\n",
       "\n",
       "            function log(x, base)\n",
       "            {\n",
       "                return Math.log(Math.abs(x)) / Math.log(base);\n",
       "            }\n",
       "\n",
       "            function in_range(a, x, b)\n",
       "            {\n",
       "                var left = Math.min(a, b);\n",
       "                var right = Math.max(a, b);\n",
       "                return left <= x && x <= right;\n",
       "            }\n",
       "\n",
       "            function inside(range, projection)\n",
       "            {\n",
       "                for(var i = 0; i != projection.length; ++i)\n",
       "                {\n",
       "                    var segment = projection[i];\n",
       "                    if(in_range(segment.range.min, range, segment.range.max))\n",
       "                        return true;\n",
       "                }\n",
       "                return false;\n",
       "            }\n",
       "\n",
       "            function to_domain(range, projection)\n",
       "            {\n",
       "                for(var i = 0; i != projection.length; ++i)\n",
       "                {\n",
       "                    var segment = projection[i];\n",
       "                    if(in_range(segment.range.bounds.min, range, segment.range.bounds.max))\n",
       "                    {\n",
       "                        if(segment.scale == \"linear\")\n",
       "                        {\n",
       "                            var amount = (range - segment.range.min) / (segment.range.max - segment.range.min);\n",
       "                            return mix(segment.domain.min, segment.domain.max, amount)\n",
       "                        }\n",
       "                        else if(segment.scale[0] == \"log\")\n",
       "                        {\n",
       "                            var amount = (range - segment.range.min) / (segment.range.max - segment.range.min);\n",
       "                            var base = segment.scale[1];\n",
       "                            return sign(segment.domain.min) * Math.pow(base, mix(log(segment.domain.min, base), log(segment.domain.max, base), amount));\n",
       "                        }\n",
       "                    }\n",
       "                }\n",
       "            }\n",
       "\n",
       "            var axes = {};\n",
       "\n",
       "            function display_coordinates(e)\n",
       "            {\n",
       "                var current = canvas.createSVGPoint();\n",
       "                current.x = e.clientX;\n",
       "                current.y = e.clientY;\n",
       "\n",
       "                for(var axis_id in axes)\n",
       "                {\n",
       "                    var axis = document.querySelector(\"#\" + axis_id);\n",
       "                    var coordinates = axis.querySelector(\".toyplot-coordinates-Axis-coordinates\");\n",
       "                    if(coordinates)\n",
       "                    {\n",
       "                        var projection = axes[axis_id];\n",
       "                        var local = current.matrixTransform(axis.getScreenCTM().inverse());\n",
       "                        if(inside(local.x, projection))\n",
       "                        {\n",
       "                            var domain = to_domain(local.x, projection);\n",
       "                            coordinates.style.visibility = \"visible\";\n",
       "                            coordinates.setAttribute(\"transform\", \"translate(\" + local.x + \")\");\n",
       "                            var text = coordinates.querySelector(\"text\");\n",
       "                            text.textContent = domain.toFixed(2);\n",
       "                        }\n",
       "                        else\n",
       "                        {\n",
       "                            coordinates.style.visibility= \"hidden\";\n",
       "                        }\n",
       "                    }\n",
       "                }\n",
       "            }\n",
       "\n",
       "            canvas.addEventListener(\"click\", display_coordinates);\n",
       "\n",
       "            var module = {};\n",
       "            module.show_coordinates = function(axis_id, projection)\n",
       "            {\n",
       "                axes[axis_id] = projection;\n",
       "            }\n",
       "\n",
       "            return module;\n",
       "        })(modules[\"toyplot/canvas\"]);\n",
       "(function(axis, axis_id, projection)\n",
       "        {\n",
       "            axis.show_coordinates(axis_id, projection);\n",
       "        })(modules[\"toyplot.coordinates.Axis\"],\"t6b6a361d8cf14817ad52dbd5ed5b916c\",[{\"domain\": {\"bounds\": {\"max\": Infinity, \"min\": -Infinity}, \"max\": 2.0710800000000003, \"min\": -3.0149999999999997}, \"range\": {\"bounds\": {\"max\": Infinity, \"min\": -Infinity}, \"max\": 200.0, \"min\": 0.0}, \"scale\": \"linear\"}]);\n",
       "})();</script></div></div>"
      ]
     },
     "metadata": {},
     "output_type": "display_data"
    }
   ],
   "source": [
    "newick2 = \"(gibbon:3,(orangutan:2,(gorilla:1,(chimp:0.25,human:0.25):0.75):1):1);\"\n",
    "toytree.tree(newick2).draw(tree_style='n', scale_bar=True);"
   ]
  },
  {
   "cell_type": "markdown",
   "metadata": {},
   "source": [
    "In a tree where branch lengths represent DNA substitutions, as opposed to time, it is unlikely to have all the tips align. This is because different lineages may have different rates of evolution, or, even if their rates are the same, some may have accumulated more mutations by chance. \n",
    "\n",
    "Below is a mock example of what an inferred tree might look like when the edges are substitutions instead of time. This is sometimes called a phylogram while the above tree is a chronogram. Generally, though, we refer to both as phylogenies and simply label the axes and figure legends to describe what they represent. "
   ]
  },
  {
   "cell_type": "code",
   "execution_count": 33,
   "metadata": {},
   "outputs": [
    {
     "data": {
      "text/html": [
       "<div class=\"toyplot\" id=\"t844bf4405f384a4cb6731d43d44e197a\" style=\"text-align:center\"><svg class=\"toyplot-canvas-Canvas\" xmlns:toyplot=\"http://www.sandia.gov/toyplot\" xmlns:xlink=\"http://www.w3.org/1999/xlink\" xmlns=\"http://www.w3.org/2000/svg\" width=\"300.0px\" height=\"275.0px\" viewBox=\"0 0 300.0 275.0\" preserveAspectRatio=\"xMidYMid meet\" style=\"background-color:transparent;border-color:#292724;border-style:none;border-width:1.0;fill:rgb(16.1%,15.3%,14.1%);fill-opacity:1.0;font-family:Helvetica;font-size:12px;opacity:1.0;stroke:rgb(16.1%,15.3%,14.1%);stroke-opacity:1.0;stroke-width:1.0\" id=\"t6acb721abc7343198457651cc267744a\"><g class=\"toyplot-coordinates-Cartesian\" id=\"tdb1ff24c02ae4be19b111823f6e361b1\"><clipPath id=\"t6bc9ea56fa0c4ca9826a46ba5f2133b2\"><rect x=\"35.0\" y=\"35.0\" width=\"230.0\" height=\"205.0\"></rect></clipPath><g clip-path=\"url(#t6bc9ea56fa0c4ca9826a46ba5f2133b2)\"><g class=\"toytree-mark-Toytree\" id=\"t8a3f12215bfd4cdc8475875a01029624\"><g class=\"toytree-Edges\" style=\"stroke:rgb(14.5%,14.5%,14.5%);stroke-opacity:1.0;stroke-linecap:round;stroke-width:2.0;fill:none\"><path d=\"M 50.7 180.5 L 50.7 218.3 L 182.7 218.3\" id=\"8,0\" style=\"\"></path><path d=\"M 55.1 142.6 L 55.1 177.9 L 143.1 177.9\" id=\"7,1\" style=\"\"></path><path d=\"M 59.5 107.2 L 59.5 137.5 L 103.5 137.5\" id=\"6,2\" style=\"\"></path><path d=\"M 92.5 76.9 L 92.5 97.1 L 125.5 97.1\" id=\"5,3\" style=\"\"></path><path d=\"M 92.5 76.9 L 92.5 56.7 L 103.5 56.7\" id=\"5,4\" style=\"\"></path><path d=\"M 59.5 107.2 L 59.5 76.9 L 92.5 76.9\" id=\"6,5\" style=\"\"></path><path d=\"M 55.1 142.6 L 55.1 107.2 L 59.5 107.2\" id=\"7,6\" style=\"\"></path><path d=\"M 50.7 180.5 L 50.7 142.6 L 55.1 142.6\" id=\"8,7\" style=\"\"></path></g><g class=\"toytree-AdmixEdges\" style=\"fill:rgb(0.0%,0.0%,0.0%);fill-opacity:0.0;stroke:rgb(90.6%,54.1%,76.5%);stroke-opacity:0.6;font-size:14px;stroke-linecap:round;stroke-width:5\"></g><g class=\"toytree-Nodes\" style=\"fill:rgb(40.0%,76.1%,64.7%);fill-opacity:1.0;stroke:rgb(14.9%,14.9%,14.9%);stroke-opacity:1.0;stroke-width:1.5\"></g><g class=\"toytree-TipLabels\" style=\"fill:rgb(14.5%,14.5%,14.5%);fill-opacity:1.0;font-family:Helvetica;font-size:12px;font-weight:300;vertical-align:baseline;white-space:pre;stroke:none\"><g class=\"toytree-TipLabel\" transform=\"translate(182.652,218.347)\"><text x=\"15.0\" y=\"3.066\" style=\"fill:rgb(14.5%,14.5%,14.5%);fill-opacity:1.0\">gibbon</text></g><g class=\"toytree-TipLabel\" transform=\"translate(143.055,177.924)\"><text x=\"15.0\" y=\"3.066\" style=\"fill:rgb(14.5%,14.5%,14.5%);fill-opacity:1.0\">orangutan</text></g><g class=\"toytree-TipLabel\" transform=\"translate(103.457,137.5)\"><text x=\"15.0\" y=\"3.066\" style=\"fill:rgb(14.5%,14.5%,14.5%);fill-opacity:1.0\">gorilla</text></g><g class=\"toytree-TipLabel\" transform=\"translate(125.456,97.0763)\"><text x=\"15.0\" y=\"3.066\" style=\"fill:rgb(14.5%,14.5%,14.5%);fill-opacity:1.0\">chimp</text></g><g class=\"toytree-TipLabel\" transform=\"translate(103.457,56.6526)\"><text x=\"15.0\" y=\"3.066\" style=\"fill:rgb(14.5%,14.5%,14.5%);fill-opacity:1.0\">human</text></g></g></g></g><g class=\"toyplot-coordinates-Axis\" id=\"td3a8ce9ac7b1469bbe9146c59d6faa8a\" transform=\"translate(50.0,225.0)translate(0,15.0)\"><line x1=\"0.6599614582508265\" y1=\"0\" x2=\"132.65225310841845\" y2=\"0\" style=\"\"></line><g><line x1=\"0.6599614582508265\" y1=\"0\" x2=\"0.6599614582508265\" y2=\"-5\" style=\"\"></line><line x1=\"44.657392008306715\" y1=\"0\" x2=\"44.657392008306715\" y2=\"-5\" style=\"\"></line><line x1=\"88.65482255836258\" y1=\"0\" x2=\"88.65482255836258\" y2=\"-5\" style=\"\"></line><line x1=\"132.65225310841845\" y1=\"0\" x2=\"132.65225310841845\" y2=\"-5\" style=\"\"></line></g><g><g transform=\"translate(0.6599614582508265,6)\"><text x=\"-9.729999999999999\" y=\"8.555\" style=\"fill:rgb(16.1%,15.3%,14.1%);fill-opacity:1.0;font-family:helvetica;font-size:10.0px;font-weight:normal;stroke:none;vertical-align:baseline;white-space:pre\">0.03</text></g><g transform=\"translate(44.657392008306715,6)\"><text x=\"-9.729999999999999\" y=\"8.555\" style=\"fill:rgb(16.1%,15.3%,14.1%);fill-opacity:1.0;font-family:helvetica;font-size:10.0px;font-weight:normal;stroke:none;vertical-align:baseline;white-space:pre\">0.02</text></g><g transform=\"translate(88.65482255836258,6)\"><text x=\"-9.729999999999999\" y=\"8.555\" style=\"fill:rgb(16.1%,15.3%,14.1%);fill-opacity:1.0;font-family:helvetica;font-size:10.0px;font-weight:normal;stroke:none;vertical-align:baseline;white-space:pre\">0.01</text></g><g transform=\"translate(132.65225310841845,6)\"><text x=\"-2.78\" y=\"8.555\" style=\"fill:rgb(16.1%,15.3%,14.1%);fill-opacity:1.0;font-family:helvetica;font-size:10.0px;font-weight:normal;stroke:none;vertical-align:baseline;white-space:pre\">0</text></g></g><g transform=\"translate(100.0,22)\"><text x=\"-106.68599999999999\" y=\"10.265999999999998\" style=\"fill:rgb(16.1%,15.3%,14.1%);fill-opacity:1.0;font-family:helvetica;font-size:12.0px;font-weight:bold;stroke:none;vertical-align:baseline;white-space:pre\">divergence (nucleotide substitutions)</text></g><g class=\"toyplot-coordinates-Axis-coordinates\" style=\"visibility:hidden\" transform=\"\"><line x1=\"0\" x2=\"0\" y1=\"-3.0\" y2=\"4.5\" style=\"stroke:rgb(43.9%,50.2%,56.5%);stroke-opacity:1.0;stroke-width:1.0\"></line><text x=\"0\" y=\"-6\" style=\"alignment-baseline:alphabetic;fill:rgb(43.9%,50.2%,56.5%);fill-opacity:1.0;font-size:10px;font-weight:normal;stroke:none;text-anchor:middle\"></text></g></g></g></svg><div class=\"toyplot-behavior\"><script>(function()\n",
       "{\n",
       "var modules={};\n",
       "modules[\"toyplot/canvas/id\"] = \"t6acb721abc7343198457651cc267744a\";\n",
       "modules[\"toyplot/canvas\"] = (function(canvas_id)\n",
       "    {\n",
       "        return document.querySelector(\"#\" + canvas_id);\n",
       "    })(modules[\"toyplot/canvas/id\"]);\n",
       "modules[\"toyplot.coordinates.Axis\"] = (\n",
       "        function(canvas)\n",
       "        {\n",
       "            function sign(x)\n",
       "            {\n",
       "                return x < 0 ? -1 : x > 0 ? 1 : 0;\n",
       "            }\n",
       "\n",
       "            function mix(a, b, amount)\n",
       "            {\n",
       "                return ((1.0 - amount) * a) + (amount * b);\n",
       "            }\n",
       "\n",
       "            function log(x, base)\n",
       "            {\n",
       "                return Math.log(Math.abs(x)) / Math.log(base);\n",
       "            }\n",
       "\n",
       "            function in_range(a, x, b)\n",
       "            {\n",
       "                var left = Math.min(a, b);\n",
       "                var right = Math.max(a, b);\n",
       "                return left <= x && x <= right;\n",
       "            }\n",
       "\n",
       "            function inside(range, projection)\n",
       "            {\n",
       "                for(var i = 0; i != projection.length; ++i)\n",
       "                {\n",
       "                    var segment = projection[i];\n",
       "                    if(in_range(segment.range.min, range, segment.range.max))\n",
       "                        return true;\n",
       "                }\n",
       "                return false;\n",
       "            }\n",
       "\n",
       "            function to_domain(range, projection)\n",
       "            {\n",
       "                for(var i = 0; i != projection.length; ++i)\n",
       "                {\n",
       "                    var segment = projection[i];\n",
       "                    if(in_range(segment.range.bounds.min, range, segment.range.bounds.max))\n",
       "                    {\n",
       "                        if(segment.scale == \"linear\")\n",
       "                        {\n",
       "                            var amount = (range - segment.range.min) / (segment.range.max - segment.range.min);\n",
       "                            return mix(segment.domain.min, segment.domain.max, amount)\n",
       "                        }\n",
       "                        else if(segment.scale[0] == \"log\")\n",
       "                        {\n",
       "                            var amount = (range - segment.range.min) / (segment.range.max - segment.range.min);\n",
       "                            var base = segment.scale[1];\n",
       "                            return sign(segment.domain.min) * Math.pow(base, mix(log(segment.domain.min, base), log(segment.domain.max, base), amount));\n",
       "                        }\n",
       "                    }\n",
       "                }\n",
       "            }\n",
       "\n",
       "            var axes = {};\n",
       "\n",
       "            function display_coordinates(e)\n",
       "            {\n",
       "                var current = canvas.createSVGPoint();\n",
       "                current.x = e.clientX;\n",
       "                current.y = e.clientY;\n",
       "\n",
       "                for(var axis_id in axes)\n",
       "                {\n",
       "                    var axis = document.querySelector(\"#\" + axis_id);\n",
       "                    var coordinates = axis.querySelector(\".toyplot-coordinates-Axis-coordinates\");\n",
       "                    if(coordinates)\n",
       "                    {\n",
       "                        var projection = axes[axis_id];\n",
       "                        var local = current.matrixTransform(axis.getScreenCTM().inverse());\n",
       "                        if(inside(local.x, projection))\n",
       "                        {\n",
       "                            var domain = to_domain(local.x, projection);\n",
       "                            coordinates.style.visibility = \"visible\";\n",
       "                            coordinates.setAttribute(\"transform\", \"translate(\" + local.x + \")\");\n",
       "                            var text = coordinates.querySelector(\"text\");\n",
       "                            text.textContent = domain.toFixed(2);\n",
       "                        }\n",
       "                        else\n",
       "                        {\n",
       "                            coordinates.style.visibility= \"hidden\";\n",
       "                        }\n",
       "                    }\n",
       "                }\n",
       "            }\n",
       "\n",
       "            canvas.addEventListener(\"click\", display_coordinates);\n",
       "\n",
       "            var module = {};\n",
       "            module.show_coordinates = function(axis_id, projection)\n",
       "            {\n",
       "                axes[axis_id] = projection;\n",
       "            }\n",
       "\n",
       "            return module;\n",
       "        })(modules[\"toyplot/canvas\"]);\n",
       "(function(axis, axis_id, projection)\n",
       "        {\n",
       "            axis.show_coordinates(axis_id, projection);\n",
       "        })(modules[\"toyplot.coordinates.Axis\"],\"td3a8ce9ac7b1469bbe9146c59d6faa8a\",[{\"domain\": {\"bounds\": {\"max\": Infinity, \"min\": -Infinity}, \"max\": 0.0153072, \"min\": -0.030149999999999996}, \"range\": {\"bounds\": {\"max\": Infinity, \"min\": -Infinity}, \"max\": 200.0, \"min\": 0.0}, \"scale\": \"linear\"}]);\n",
       "})();</script></div></div>"
      ]
     },
     "metadata": {},
     "output_type": "display_data"
    }
   ],
   "source": [
    "newick3 = \"(gibbon:0.03,(orangutan:0.02,(gorilla:0.01,(chimp:0.0075,human:0.0025):0.0075):0.001):0.001);\"\n",
    "tree3 = toytree.tree(newick3)\n",
    "c, a, m = tree3.draw(tree_style='n', scale_bar=True);\n",
    "a.x.label.text = \"divergence (nucleotide substitutions)\""
   ]
  },
  {
   "cell_type": "markdown",
   "metadata": {},
   "source": [
    "<div class=\"alert alert-success\">\n",
    "    <h3>Action 3:</h3> \n",
    "    \n",
    "Try to write a newick string for the relationships of six taxa using letters for names (a-f), and plot the tree. Try to write it so that `'a'` and `'b'` are sister taxa (share an exclusive MRCA), and so that `'f'` is the outgroup sample. Look back at previous examples for guidance. \n",
    "\n",
    "If your newick string is malformed then the `toytree.tree` function will raise an Error. If this happens modify your newick string and try again. \n",
    "\n",
    "</div>"
   ]
  },
  {
   "cell_type": "markdown",
   "metadata": {},
   "source": [
    "<div class=\"alert alert-warning\">\n",
    "\n",
    "<details>\n",
    "  <summary><h3>Click for answer.</h3></summary>\n",
    "  \n",
    "```python\n",
    "\n",
    "# simple solution: only create minimum requested clades\n",
    "newick = \"(f,((a,b),(c,d,e)));\" \n",
    "toytree.tree(newick).draw(ts='s');\n",
    "    \n",
    "# full solution: added random resolution of other samples\n",
    "newick = \"(f,((a,b),(c,(d,e))));\" \n",
    "toytree.tree(newick).draw(ts='s'); \n",
    "```\n",
    "    \n",
    "</details>\n",
    "\n",
    "\n",
    "<div>"
   ]
  }
 ],
 "metadata": {
  "kernelspec": {
   "display_name": "Python 3 (ipykernel)",
   "language": "python",
   "name": "python3"
  },
  "language_info": {
   "codemirror_mode": {
    "name": "ipython",
    "version": 3
   },
   "file_extension": ".py",
   "mimetype": "text/x-python",
   "name": "python",
   "nbconvert_exporter": "python",
   "pygments_lexer": "ipython3",
   "version": "3.10.12"
  }
 },
 "nbformat": 4,
 "nbformat_minor": 4
}

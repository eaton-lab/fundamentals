{
 "cells": [
  {
   "cell_type": "code",
   "execution_count": 62,
   "id": "f1fb11fa",
   "metadata": {},
   "outputs": [],
   "source": [
    "import toytree\n",
    "import ipcoal\n",
    "from toytree.core.drawing.container2 import *"
   ]
  },
  {
   "cell_type": "code",
   "execution_count": 63,
   "id": "e8cd49d9",
   "metadata": {},
   "outputs": [],
   "source": [
    "sptree = toytree.rtree.unittree(4, seed=123).mod.edges_slider(seed=333)"
   ]
  },
  {
   "cell_type": "code",
   "execution_count": null,
   "id": "7d768f1e",
   "metadata": {},
   "outputs": [],
   "source": [
    "gtree = ipcoal.Model(sptree, Ne=10000, nsamples=1).get_"
   ]
  },
  {
   "cell_type": "code",
   "execution_count": null,
   "id": "f17b4faf",
   "metadata": {},
   "outputs": [],
   "source": [
    "cont = Container(model)"
   ]
  },
  {
   "cell_type": "code",
   "execution_count": 61,
   "id": "310f2a7a",
   "metadata": {},
   "outputs": [
    {
     "data": {
      "text/plain": [
       "toytree.core.drawing.container2.Embedding"
      ]
     },
     "execution_count": 61,
     "metadata": {},
     "output_type": "execute_result"
    }
   ],
   "source": [
    "Embedding()"
   ]
  }
 ],
 "metadata": {
  "kernelspec": {
   "display_name": "Python 3 (ipykernel)",
   "language": "python",
   "name": "python3"
  },
  "language_info": {
   "codemirror_mode": {
    "name": "ipython",
    "version": 3
   },
   "file_extension": ".py",
   "mimetype": "text/x-python",
   "name": "python",
   "nbconvert_exporter": "python",
   "pygments_lexer": "ipython3",
   "version": "3.9.12"
  }
 },
 "nbformat": 4,
 "nbformat_minor": 5
}

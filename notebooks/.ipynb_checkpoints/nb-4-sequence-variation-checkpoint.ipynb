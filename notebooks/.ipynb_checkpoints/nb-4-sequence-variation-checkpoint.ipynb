{
 "cells": [
  {
   "cell_type": "markdown",
   "metadata": {},
   "source": [
    "# Genealogical variation *within* a population\n",
    "\n",
    "\n",
    "### Notebook outline:\n",
    "1. Visualize genealogical variation within a population.\n",
    "2. Visualize substitutions on genealogies.\n",
    "3. Visualize DNA sequence alignments.\n",
    "4. Compute population genetic diversity $\\theta = 4Ne\\mu$.\n",
    "\n",
    "### Learning objectives: \n",
    "By the end of this notebook you should:\n",
    "1. Be a little more familiar with the `toytree` and `ipcoal` Python libraries.\n",
    "2. Understand that within a population there is not one phylogenetic history, but many.\n",
    "3. Understand that sequence variation arises from mutations on genealogies.\n",
    "\n",
    "\n",
    "### Additional recommended reading:\n",
    "\n",
    "- [Rosenberg and Nordborg (2002) Genealogical trees, coalescent theory and the analysis of genetic polymorphisms. Nature Review Genetics](https://eaton-lab.org/slides/genomics/readings/Rosenberg-and-Nordborg-2002.pdf)"
   ]
  },
  {
   "cell_type": "code",
   "execution_count": null,
   "metadata": {},
   "outputs": [],
   "source": [
    "import ipcoal\n",
    "import toytree\n",
    "import itertools\n",
    "import numpy as np"
   ]
  },
  {
   "cell_type": "markdown",
   "metadata": {},
   "source": [
    "### Terminology (genealogies and gene trees)\n",
    "This notebook aims to demonstrate and reinforce an understanding of the difference between the *true* genealogical history of a set of samples, and the *inferred* gene tree history that is estimated from observable sequence data. The following terminology is helpful in this respect. \n",
    "\n",
    "**Genealogies** are the true unobserved histories of a set of sampled gene copies from one or more populations. They share a common ancestor at some point in their past, and the relationships among the samples and their ancestors traces back a tree-like relationship. In sexually reproducing diploid species, gene copies will share different genealogical histories at different unlinked regions of the genome, because they trace back to different ancestors.\n",
    "\n",
    "**Gene trees** are estimates of the genealogies. Because we cannot observe genealogies directly, we must infer them from the data that we can observe, in the form of substitutions that evolved on those genealogies and left information in genetic sequence data."
   ]
  },
  {
   "cell_type": "markdown",
   "metadata": {},
   "source": [
    "### Simulating trees and mutations\n",
    "In the examples below we will simulate sequence data on one or more genealogies. In contrast to our previous notebook where we wrote a custom coalescent simulation script, we will now use a Python package that is built for this purpose, named `ipcoal`. In addition to simulated coalescent trees, this can also simulate the process of mutation. Once again, this process is implemented in a similar way to how it would be in a WF model. Each generation a gene copy can experience a mutation, in which case it represents a new allele. \n",
    "\n",
    "The coalescent model is a particularly efficient method for studying genetic variation because we only need to keep track of the mutations that occur in the history of the samples that we are studying, not the history of all mutations that occurred in every other gene copy in the population. This is because we know that our sampled gene copies trace back to a common ancestor at some point in time. Thus, all of our sampled gene copies were represented by the same allele at that time. The only way they could have changed since then is by mutation. Thus, new mutations since the MRCA in a set of sampled gene copies is how genetic variation originates. \n",
    "\n",
    "If we assume a neutral model in which mutations have no fitness effect, and occur at a constant rate, then we can simulate mutations as a random process that occurs along the edges of a genealogy. Thus, coalescent simulations of sequence data simply follow a two step approach: first simulate coalescent genealogies, and then simulate a random point process of mutation along the branches of the genealogy. This is demonstrated below. "
   ]
  },
  {
   "cell_type": "markdown",
   "metadata": {},
   "source": [
    "### Simulate a genealogy\n",
    "\n",
    "In this example we simulate a single locus that is 100bp in length on a species tree with very little discordance (low Ne). A print statement returns the number of genealogies that evolve across this length. A gene tree is inferred with RAxML and its topology is compared to the species tree and to the first genealogy in the simulated locus. In this case the inferred gene tree does not match the underlying genealogy or the species tree because there is little information in the 200bp locus. "
   ]
  },
  {
   "cell_type": "code",
   "execution_count": null,
   "metadata": {},
   "outputs": [],
   "source": [
    "# seed for random number generator (RNG)\n",
    "SEED = 333\n",
    "\n",
    "# setup simulation with small Ne\n",
    "model1 = ipcoal.Model(\n",
    "    Ne=2e5, \n",
    "    nsamples=8,\n",
    "    recomb=0, \n",
    "    mut=1e-7,\n",
    "    store_tree_sequences=True, \n",
    "    seed_mutations=SEED, \n",
    "    seed_trees=SEED,\n",
    ")\n",
    "\n",
    "# simulate one short uninformative locus\n",
    "model1.sim_loci(nloci=1, nsites=100)"
   ]
  },
  {
   "cell_type": "code",
   "execution_count": null,
   "metadata": {},
   "outputs": [],
   "source": [
    "# print information about the simulation\n",
    "print(f\"simulated {model1.df.shape[0]} genealogies with \"\n",
    "      f\"{model1.df.nbps.sum()} sites with \"\n",
    "      f\"{model1.df.nsnps.sum()} substitutions.\")"
   ]
  },
  {
   "cell_type": "code",
   "execution_count": null,
   "metadata": {},
   "outputs": [],
   "source": [
    "# visualize the first 100bp of simulated data\n",
    "model1.draw_seqview(show_text=True, scrollable=True, end=100);"
   ]
  },
  {
   "cell_type": "markdown",
   "metadata": {},
   "source": [
    "### Substitutions occur on genealogies\n",
    "There is a connection between genealogies and sequence variation at a locus. Specifically, \n"
   ]
  },
  {
   "cell_type": "code",
   "execution_count": null,
   "metadata": {},
   "outputs": [],
   "source": [
    "# visualize the substitutions on the genealogy\n",
    "model1.draw_genealogy(layout='d', show_substitutions=True);"
   ]
  },
  {
   "cell_type": "markdown",
   "metadata": {},
   "source": [
    "### Infer an empirical gene tree\n",
    "Followng our terminology from the beginning of this notebook, the <span style=\"color:tomato; font-weight:600\">gene tree is a hypothesis for the genealogy inferred from data</span>. The function below will implement a maximum likelihood method of phylogenetic inference to infer a gene tree from the simulated sequence data. We then plot the inferred gene tree below it. Compare this inferred tree to the true genealogy with substitutions mapped onto its edges, from above. "
   ]
  },
  {
   "cell_type": "code",
   "execution_count": null,
   "metadata": {},
   "outputs": [],
   "source": [
    "# infer an empirical gene tree from the sequence data\n",
    "gene_tree = ipcoal.phylo.infer_raxml_ng_tree(model1)"
   ]
  },
  {
   "cell_type": "code",
   "execution_count": null,
   "metadata": {},
   "outputs": [],
   "source": [
    "# draw the inferred gene tree\n",
    "gene_tree.draw(layout='d');"
   ]
  },
  {
   "cell_type": "markdown",
   "metadata": {},
   "source": [
    "\n",
    "<div class=\"alert alert-success\">\n",
    "    <b>Action:</b> \n",
    "Try editing parameters of the simulation above, such as the number of simulated sites (nsites) or the mutation rate (`mut`) or Ne, and re-execute the last few cells. What type of changes make it more likely that the inferred gene tree will match closely to the coalescent genealogy?\n",
    "</div>"
   ]
  },
  {
   "cell_type": "markdown",
   "metadata": {},
   "source": [
    "### Gene tree variation\n",
    "In summary, a gene tree is a hypothesis for the genealogy, an attempt to infer the correct relationships among gene copies, and sometimes also to infer the correct branch lengths. The gene tree may be incorrect for a number of reasons, including insufficient number of substitutions at a locus, or multiple mutations to the same sites at a locus (homoplasy). Another common source of gene tree inference error is recombination. In the examples above we set recomb=0, so it had no effect, but if we allowed recombination and simulated a 10,000 bp locus, it may actually represent multiple different genealogies with recombination breaks between them. In this case there is no single correct gene tree for the locus. "
   ]
  },
  {
   "cell_type": "markdown",
   "metadata": {},
   "source": [
    "### Sequence variation in genomes\n",
    "We have seen previously that within a single population the coalescent genealogies at different unlinked regions of the genome have completely and independent genealogies. Because we assume random mating within populations, the topologies are random, but the coalescent waiting times are not, they are predicted by the population parameter, Ne. <span style=\"color:tomato; font-weight:600\">The variation in coalescent waiting times among gene copies is important in determining the opportunity over which mutations can arise, causing sequence variation.</span> A single coalescent genealogy is too variable to tell us much about a population, but by examining many of them we can gain information about a population. \n",
    "\n",
    "Let's simulate a genomic data set that is similar to if we sequenced a large number of unlinked loci to try to measure genetic variation. The cells below will simulate a sequence matrix containing data from 1K simulated loci (genealogies). In the code below that we then measure the average number of differences between any two samples in the population, and also show the theoretical expectation for the population genetic diversity of this population ($4Neu$). After completing this part once, try changing some parameters in the \"set variables\" section of code below, such as increasing or decreasing the population size, and run the code again to see its effect. "
   ]
  },
  {
   "cell_type": "code",
   "execution_count": null,
   "metadata": {},
   "outputs": [],
   "source": [
    "# set variables\n",
    "Ne = 10000\n",
    "nsamples = 8\n",
    "mut = 1e-7\n",
    "nloci = 1000\n",
    "loclen = 20"
   ]
  },
  {
   "cell_type": "code",
   "execution_count": null,
   "metadata": {},
   "outputs": [],
   "source": [
    "# simulate sequence data for a single population at many loci\n",
    "model = ipcoal.Model(Ne=Ne, nsamples=nsamples, mut=mut)\n",
    "model.sim_loci(nloci=nloci, nsites=loclen)\n",
    "\n",
    "# combine the loci into one large sequence matrix\n",
    "model.seqs = np.concatenate(model.seqs, 1)"
   ]
  },
  {
   "cell_type": "code",
   "execution_count": null,
   "metadata": {},
   "outputs": [],
   "source": [
    "def get_pop_gen_diversity(seqs):\n",
    "    \"\"\"Return the proportion diffs measured for every pair of samples.\"\"\"\n",
    "    nsamples = seqs.shape[0]\n",
    "    \n",
    "    # sample all combination of two gene copies\n",
    "    samples = list(itertools.combinations_with_replacement(range(nsamples), 2))\n",
    "\n",
    "    # measure proportion of variable sites in each sample of two gene copies\n",
    "    theta = []\n",
    "    idx = 0\n",
    "    for sample in samples:\n",
    "        i, j = sample\n",
    "        if i != j:\n",
    "            two_samples = seqs[[i, j], :]\n",
    "            theta.append((sum(two_samples[1, :] != two_samples[0, :]) / two_samples.shape[1]))\n",
    "            idx += 1\n",
    "    return theta"
   ]
  },
  {
   "cell_type": "markdown",
   "metadata": {},
   "source": [
    "#### Finally, measure theta at every locus\n",
    "For every pair of gene copies this simply returns the proportion of sites that are different."
   ]
  },
  {
   "cell_type": "code",
   "execution_count": null,
   "metadata": {},
   "outputs": [],
   "source": [
    "# report results\n",
    "theta = get_pop_gen_diversity(model.seqs)\n",
    "print(\"measured population genetic diversity (theta)\")\n",
    "print('mean={:.4f}, std={:.4f}'.format(np.mean(theta), np.std(theta)))\n",
    "print(\"\\ntheoretical expectation (4Neu): {}\".format(4 * Ne * mut))"
   ]
  }
 ],
 "metadata": {
  "kernelspec": {
   "display_name": "Python 3 (ipykernel)",
   "language": "python",
   "name": "python3"
  },
  "language_info": {
   "codemirror_mode": {
    "name": "ipython",
    "version": 3
   },
   "file_extension": ".py",
   "mimetype": "text/x-python",
   "name": "python",
   "nbconvert_exporter": "python",
   "pygments_lexer": "ipython3",
   "version": "3.9.12"
  }
 },
 "nbformat": 4,
 "nbformat_minor": 4
}

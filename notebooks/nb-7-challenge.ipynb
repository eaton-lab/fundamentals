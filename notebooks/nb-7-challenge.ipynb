{
 "cells": [
  {
   "cell_type": "markdown",
   "id": "dc60b7ed-0716-4ab7-a69f-53f674f62803",
   "metadata": {},
   "source": [
    "# Challenge questions for notebooks 0-6\n",
    "Try to complete the challenges below. If you get stuck, consult the previous notebooks, online documentation, your assigned reading, or your fellow students. You can view a static version of the previous notebooks [here](https://nbviewer.org/github/eaton-lab/fundamentals/tree/master/notebooks/). "
   ]
  },
  {
   "cell_type": "code",
   "execution_count": 38,
   "id": "b0c62e25-7957-4a36-bdbc-3b57b586a1ae",
   "metadata": {},
   "outputs": [],
   "source": [
    "import toytree\n",
    "import ipcoal"
   ]
  },
  {
   "cell_type": "markdown",
   "id": "5e0d84c4-5b68-4e85-a781-33a0a305d203",
   "metadata": {},
   "source": [
    "### 1. Tree operations\n",
    "\n",
    "Using `toytree`, generate a random 10 tip tree and draw it in the space below. It may help to look back at your notebooks or at the [toytree documentation](https://eaton-lab.org/toytree)."
   ]
  },
  {
   "cell_type": "code",
   "execution_count": null,
   "id": "99002bbb-9516-4b46-8970-c52d4009800f",
   "metadata": {},
   "outputs": [],
   "source": []
  },
  {
   "cell_type": "markdown",
   "id": "f237f337-b734-46e9-8a42-c1a89fa4d56f",
   "metadata": {},
   "source": [
    "### 2. Coalescent simulation\n",
    "Using `ipcoal`, simulate a random coalescent tree for a sample of 10 gene copies from a single population demographic model with an effective population size of 10000. It may help to look back at your notebooks or at the [ipcoal documentation](https://ipcoal.readthedocs.io)."
   ]
  },
  {
   "cell_type": "code",
   "execution_count": null,
   "id": "dd815332-22ef-4f41-832a-a5762d08a5c3",
   "metadata": {},
   "outputs": [],
   "source": []
  },
  {
   "cell_type": "markdown",
   "id": "27b8dcbf-4a3b-46cf-9d8c-79d280263514",
   "metadata": {},
   "source": [
    "### 3. The Coalescent model\n",
    "Answer below using markdown. (1) How/why does the effective population size (Ne) affect coalescent times? (2) Why is a model for generating trees as random variables a useful tool? "
   ]
  },
  {
   "cell_type": "markdown",
   "id": "e4699ff7-b4e6-4b3f-abf2-a1bc9bec180a",
   "metadata": {},
   "source": [
    "..."
   ]
  },
  {
   "cell_type": "markdown",
   "id": "66e3b29f-9517-419a-85cb-0d0a09f63a0e",
   "metadata": {},
   "source": [
    "### 4. Species trees\n",
    "Using `toytree`, create a species tree that contains three populations \"((A,B)AB,C)ABC;\", with the following parameters for the population effective sizes (NeA=1000, NeB=3000, NeC=2000, NeAB=2000, NeABC=5000) and divergence times (T$_{AB}$=5000, T$_{ABC}$=10000). You can do this by editing the newick string, and/or assigning data to the nodes of a ToyTree using the function `.set_node_data`.\n",
    "\n",
    "Next, create an `ipcoal.Model` object that uses the tree from above as its `tree` argument. Also set `nsamples=2` to sample 2 gene copies from each population. If the input tree contains a feature named \"Ne\" assigned to each node then it will automatically assign Ne values to the corresponding species tree branches. Call `.sim_trees(1)` from your model object to simulate one coalescent genealogy embedded in the species tree. Then call `.draw_demography(0)` from the model object to draw the tree embedding."
   ]
  },
  {
   "cell_type": "code",
   "execution_count": null,
   "id": "76f8d633-5336-48d8-98da-d60536890039",
   "metadata": {},
   "outputs": [],
   "source": []
  },
  {
   "cell_type": "markdown",
   "id": "718b9a2a-0d29-4b7b-8bcf-b837cf4bc377",
   "metadata": {},
   "source": [
    "### 5. Incomplete lineage sorting\n",
    "\n",
    "Run your simulation from question 4 several times without setting a random seed. You should see a different random genealogical history embedded in the species tree container each time. Given the parameters of this species tree, it is common to observe incomplete lineage sorting. Describe (1) what incomplete lineage sorting is; and (2) what parameters of the species tree model could be changed to reduce the amount of incomplete lineage sorting."
   ]
  },
  {
   "cell_type": "markdown",
   "id": "5dc601e8-5123-4e9a-8a19-3284eaebe13b",
   "metadata": {},
   "source": [
    "..."
   ]
  }
 ],
 "metadata": {
  "kernelspec": {
   "display_name": "Python 3 (ipykernel)",
   "language": "python",
   "name": "python3"
  },
  "language_info": {
   "codemirror_mode": {
    "name": "ipython",
    "version": 3
   },
   "file_extension": ".py",
   "mimetype": "text/x-python",
   "name": "python",
   "nbconvert_exporter": "python",
   "pygments_lexer": "ipython3",
   "version": "3.10.12"
  }
 },
 "nbformat": 4,
 "nbformat_minor": 5
}

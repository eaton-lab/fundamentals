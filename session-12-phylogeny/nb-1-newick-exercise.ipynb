{
 "cells": [
  {
   "cell_type": "markdown",
   "metadata": {},
   "source": [
    "## Exercise: Working with the newick tree structure\n",
    "\n",
    "This is exercise uses the Python programming language and a simple package called `toytree` which is able to read and write newick formatted data files and draw tree visualizations. You can follow along by executing each code cell in order, from the top of this notebook, to the bottom, by holding the shift key and pressing enter (or by pressing the Run button in the toolbar.) \n",
    "\n",
    "The goal of this exercise to learn how phylogenetic trees can be represented as text, and interpreted using code to manipulate and better understand their structure and meaning. You will not need to know the Python programming language in order to complete this notebook, but you will hopefully learn a little about it along the way. "
   ]
  },
  {
   "cell_type": "code",
   "execution_count": null,
   "metadata": {},
   "outputs": [],
   "source": [
    "import toytree "
   ]
  },
  {
   "cell_type": "markdown",
   "metadata": {},
   "source": [
    "### 1. We can define a tree by writing a newick string\n",
    "The text below describes a tree in *newick* format. When researchers are working with phylogenetic trees as their data, this is the type of data they are working with. It is simply text. This format can contain just the relationships, described by nested parentheses like below, or it can contain additional information such as branch lengths, which we'll see later. "
   ]
  },
  {
   "cell_type": "code",
   "execution_count": null,
   "metadata": {},
   "outputs": [],
   "source": [
    "tree1 = \"(gibbon, (orangutan, (gorilla, (chimp, human))));\""
   ]
  },
  {
   "cell_type": "markdown",
   "metadata": {},
   "source": [
    "### 2. Draw a tree\n",
    "This is visualization of the tree structure defined above. We pass an argument to the function below to draw the tree with a specific type of style defined using the `ts='s'`  argument."
   ]
  },
  {
   "cell_type": "code",
   "execution_count": null,
   "metadata": {
    "scrolled": true
   },
   "outputs": [],
   "source": [
    "toytree.tree(tree1).draw(tree_style='s');"
   ]
  },
  {
   "cell_type": "markdown",
   "metadata": {},
   "source": [
    "### 3. Rotating nodes\n",
    "Rotating nodes simply changes the order in which the labels at the tips are arranged. However, it does not change the evolutionary relationships. Below we changed the order of human, chimp, and gorilla, but you can see that the common ancestor of human and chimp is still node 5, and the their common ancestor with gorilla is still node 6. "
   ]
  },
  {
   "cell_type": "code",
   "execution_count": null,
   "metadata": {},
   "outputs": [],
   "source": [
    "toytree.tree(tree1).rotate_node([\"gorilla\", \"chimp\", \"human\"]).draw(tree_style='s');"
   ]
  },
  {
   "cell_type": "markdown",
   "metadata": {},
   "source": [
    "### Rotating nodes changes the visualization, but not the tree structure.\n",
    "This is because the tree structure represents the hierarchy of relationships (clades within clades). Below we rotate several more nodes and print the resulting newick structure. As you can see, the structure of the underlying data does not change (same groups are still nested within other groups in parentheses.)"
   ]
  },
  {
   "cell_type": "code",
   "execution_count": null,
   "metadata": {},
   "outputs": [],
   "source": [
    "toytree.tree(tree1).rotate_node([\"gorilla\", \"chimp\", \"human\"]).write(tree_format=9)"
   ]
  },
  {
   "cell_type": "code",
   "execution_count": null,
   "metadata": {},
   "outputs": [],
   "source": [
    "toytree.tree(tree1).rotate_node([\"gorilla\", \"chimp\", \"human\", \"orangutan\"]).write(tree_format=9)"
   ]
  },
  {
   "cell_type": "markdown",
   "metadata": {},
   "source": [
    "### Edge length information (Divergence times, i.e., ages of clades)\n",
    "Additional information such as the ages of clades is easy to include in newick. Below you can see that the lengths of branches are simply numeric values placed next to parentheses or tips (nodes of the tree). Below we use a different tree style for plotting (`tree_style='n'`) since this style will show branch length differences. "
   ]
  },
  {
   "cell_type": "code",
   "execution_count": null,
   "metadata": {},
   "outputs": [],
   "source": [
    "tree2 = \"(gibbon:3, (orangutan:2, (gorilla:1, (chimp:0.25, human:0.25):0.75):1):1);\"\n",
    "toytree.tree(tree2).draw(tree_style='n', scalebar=True);"
   ]
  },
  {
   "cell_type": "markdown",
   "metadata": {},
   "source": [
    "### What do edge lengths mean?\n",
    "Sometimes they represent the ages of clades, in which case all of extant tips of the tree should align at time=0. Alternatively, though, the edge lengths of a tree can represent the amount of change observed between samples. For example, below the edge lengths could represent the amount of DNA sequence divergence between samples caused by mutations. If one sample has a higher rate of molecular substitution than another then the edge lengths will not necessarily align at zero. This information is informative about rates, but not so much about time. Converting rate estimates to divergence time estimates is an important topic of research in evolution. "
   ]
  },
  {
   "cell_type": "code",
   "execution_count": null,
   "metadata": {},
   "outputs": [],
   "source": [
    "tree2 = \"(gibbon:0.03, (orangutan:0.02, (gorilla:0.01, (chimp:0.0075, human:0.0025):0.0075):0.001):0.001);\"\n",
    "toytree.tree(tree2).draw(tree_style='n', scalebar=True);"
   ]
  },
  {
   "cell_type": "markdown",
   "metadata": {},
   "source": [
    "### Challenge: \n",
    "Try to write a newick string for the relationships of six imaginary taxa and plot it. Next, try to add branch lengths to the tree. Hint: just like in the code above, you need to store the newick string as a variable (e.g., tree1) and then load it with toytree using the `toytree.tree()` command, followed by the `.draw()` command. "
   ]
  },
  {
   "cell_type": "code",
   "execution_count": null,
   "metadata": {},
   "outputs": [],
   "source": []
  },
  {
   "cell_type": "markdown",
   "metadata": {},
   "source": [
    "### What is tree rooting?\n",
    "In reality, every tree has a root position. The root defines the direction in which evolution took place (from the past to the present). This is called the \"polarity\" of the tree. The problem is, for many types of phylogenetic inference we only care about the number of changes on the tree, which we can calculate without knowing the root. Trees can be represented in unrooted form, but it is not always obvious. Best practice is to state whether a tree is rooted or not. Often a polytomy (unresolved split) at the base of the tree indicates whether it is rooted. \n",
    "\n",
    "The tree below is unrooted. It does not include a split telling us whether (gorilla, (chimp, human)); is more closely related to orangutan or to gibbon, or equally related to both. "
   ]
  },
  {
   "cell_type": "code",
   "execution_count": null,
   "metadata": {},
   "outputs": [],
   "source": [
    "toytree.tree(tree1).unroot().draw(tree_style='s');"
   ]
  },
  {
   "cell_type": "markdown",
   "metadata": {},
   "source": [
    "For example, what if the root is on the gibbon branch: Then the Orangutan is more closely related to the (g(c,h)) clade. "
   ]
  },
  {
   "cell_type": "code",
   "execution_count": null,
   "metadata": {},
   "outputs": [],
   "source": [
    "toytree.tree(tree1).root(\"gibbon\").draw(tree_style='s');"
   ]
  },
  {
   "cell_type": "markdown",
   "metadata": {},
   "source": [
    "Whereas if the root is on the orangutan branch then the result is different:\n",
    "    "
   ]
  },
  {
   "cell_type": "code",
   "execution_count": null,
   "metadata": {},
   "outputs": [],
   "source": [
    "toytree.tree(tree1).root(\"orangutan\").draw(tree_style='s');"
   ]
  },
  {
   "cell_type": "markdown",
   "metadata": {},
   "source": [
    "The root could also be on the edge that separates (o, g) from (g,(h,c)). "
   ]
  },
  {
   "cell_type": "code",
   "execution_count": null,
   "metadata": {
    "scrolled": true
   },
   "outputs": [],
   "source": [
    "toytree.tree(tree1).root([\"orangutan\", \"gibbon\"]).draw(tree_style='s');"
   ]
  },
  {
   "cell_type": "markdown",
   "metadata": {},
   "source": [
    "As you can see, knowing the root of the tree is important for interpreting the relationships of taxa. If we incorrectly put the root in the wrong place like in the examples above, or below, then we could misinterpret the tree. Information from external source, like other phylogenies, fossil data, morphology, or the length of branches are often used to set the root of trees. "
   ]
  },
  {
   "cell_type": "markdown",
   "metadata": {},
   "source": [
    "### Trees as data\n",
    "\n",
    "As you can see from this exercise, phylogenetic trees representing the evolutionary relationships of organisms can be modeled as a simple data structure. This includes a nested hierarchy (represented by parentheses) to describe evolutionary relationships, and numeric labels that are used to describe the lengths of branches. With this information we can then create diagrams (tree plots) to visualize species relationships, in this example using the coding language Python. \n",
    "\n",
    "Evolutionary biologists use tree in many types of analyses, where the structure of the tree, and lengths of branches can be incorporated into models of evolution to test hypotheses. At the base of all of this is the simple tree data structure, which you now have a better understanding of. "
   ]
  }
 ],
 "metadata": {
  "kernelspec": {
   "display_name": "Python 3",
   "language": "python",
   "name": "python3"
  },
  "language_info": {
   "codemirror_mode": {
    "name": "ipython",
    "version": 3
   },
   "file_extension": ".py",
   "mimetype": "text/x-python",
   "name": "python",
   "nbconvert_exporter": "python",
   "pygments_lexer": "ipython3",
   "version": "3.8.6"
  }
 },
 "nbformat": 4,
 "nbformat_minor": 2
}
